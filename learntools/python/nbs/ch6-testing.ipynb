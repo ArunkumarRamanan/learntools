{
 "cells": [
  {
   "cell_type": "markdown",
   "metadata": {},
   "source": [
    "Welcome to the exercises for day 6 (to go along with the day 6 tutorial notebook on [strings and dictionaries](https://www.kaggle.com/colinmorris/learn-python-challenge-day-6))\n",
    "\n",
    "Run the setup code below before working on the questions (and run it again if you leave this notebook and come back later)."
   ]
  },
  {
   "cell_type": "code",
   "execution_count": 1,
   "metadata": {},
   "outputs": [],
   "source": [
    "\"\"\"\n",
    "import sys; sys.path.insert(0, '../input/learntools/learntools')\n",
    "from learntools.python import binder; binder.bind(globals())\n",
    "from learntools.python.ex4 import *\n",
    "print('Setup complete.')\n",
    "\"\"\"\n",
    "import sys\n",
    "import os\n",
    "ltp = os.path.abspath('../../../')\n",
    "sys.path.append(ltp)\n",
    "from learntools.python import binder\n",
    "binder.bind(globals())\n",
    "from learntools.python.ex6 import *"
   ]
  },
  {
   "cell_type": "markdown",
   "metadata": {},
   "source": [
    "# Exercises"
   ]
  },
  {
   "cell_type": "markdown",
   "metadata": {},
   "source": [
    "## 0. \n",
    "\n",
    "Let's start with a string lightning round! What are the lengths of the strings below?\n",
    "\n",
    "For each of the five strings below, predict what `len()` would return when passed that string. Use the variable `length` to record your answer, then run the cell to check whether you were right."
   ]
  },
  {
   "cell_type": "code",
   "execution_count": 2,
   "metadata": {},
   "outputs": [
    {
     "data": {
      "text/markdown": [
       "<span style=\"color:#33cc33\">Correct:</span> \n",
       "\n",
       "The empty string has length zero. Note that the empty string is also the only string that Python considers as False when converting to boolean."
      ],
      "text/plain": [
       "Correct: \n",
       "\n",
       "The empty string has length zero. Note that the empty string is also the only string that Python considers as False when converting to boolean."
      ]
     },
     "metadata": {},
     "output_type": "display_data"
    }
   ],
   "source": [
    "a = \"\"\n",
    "# Don't just write length = len(a). Come up with your own predictions.\n",
    "length = 0\n",
    "q0.a.check()"
   ]
  },
  {
   "cell_type": "code",
   "execution_count": 30,
   "metadata": {},
   "outputs": [
    {
     "data": {
      "text/markdown": [
       "<span style=\"color:#33cc33\">Correct:</span> \n",
       "\n",
       "Keep in mind Python includes spaces (and punctuation) when counting string length."
      ],
      "text/plain": [
       "Correct: \n",
       "\n",
       "Keep in mind Python includes spaces (and punctuation) when counting string length."
      ]
     },
     "metadata": {},
     "output_type": "display_data"
    }
   ],
   "source": [
    "b = \"it's ok\"\n",
    "length = len(b)\n",
    "q0.b.check()"
   ]
  },
  {
   "cell_type": "code",
   "execution_count": 31,
   "metadata": {},
   "outputs": [
    {
     "data": {
      "text/markdown": [
       "<span style=\"color:#33cc33\">Correct:</span> \n",
       "\n",
       "Even though we use different syntax to create it, the string `c` is identical to `b`. In particular, note that the backslash is not part of the string, so it doesn't contribute to its length."
      ],
      "text/plain": [
       "Correct: \n",
       "\n",
       "Even though we use different syntax to create it, the string `c` is identical to `b`. In particular, note that the backslash is not part of the string, so it doesn't contribute to its length."
      ]
     },
     "metadata": {},
     "output_type": "display_data"
    }
   ],
   "source": [
    "c = 'it\\'s ok'\n",
    "length = len(c)\n",
    "q0.c.check()"
   ]
  },
  {
   "cell_type": "code",
   "execution_count": 32,
   "metadata": {},
   "outputs": [
    {
     "data": {
      "text/markdown": [
       "<span style=\"color:#33cc33\">Correct:</span> \n",
       "\n",
       "The fact that this string was created using triple-quote syntax doesn't make any difference in terms of its content or length. This string is exactly the same as `'hey'`."
      ],
      "text/plain": [
       "Correct: \n",
       "\n",
       "The fact that this string was created using triple-quote syntax doesn't make any difference in terms of its content or length. This string is exactly the same as `'hey'`."
      ]
     },
     "metadata": {},
     "output_type": "display_data"
    }
   ],
   "source": [
    "d = \"\"\"hey\"\"\"\n",
    "length = len(d)\n",
    "q0.d.check()"
   ]
  },
  {
   "cell_type": "code",
   "execution_count": 33,
   "metadata": {},
   "outputs": [
    {
     "data": {
      "text/markdown": [
       "<span style=\"color:#33cc33\">Correct:</span> \n",
       "\n",
       "The newline character is just a single character! (Even though we represent it to Python using a combination of two characters.)"
      ],
      "text/plain": [
       "Correct: \n",
       "\n",
       "The newline character is just a single character! (Even though we represent it to Python using a combination of two characters.)"
      ]
     },
     "metadata": {},
     "output_type": "display_data"
    }
   ],
   "source": [
    "e = '\\n'\n",
    "length = len(e)\n",
    "q0.e.check()"
   ]
  },
  {
   "cell_type": "markdown",
   "metadata": {},
   "source": [
    "## 1.\n",
    "\n",
    "There is a saying that \"Data scientists spend 80% of their time cleaning data, and 20% of their time complaining about cleaning data.\" Let's see if you can write a function to help clean data with US zip codes.\n",
    "\n",
    "For our purposes, a valid zip code is any string consisting of exactly 5 digits.\n",
    "\n",
    "HINT: `str` has a method that will be useful here. Use `help(str)` to review a list of string methods."
   ]
  },
  {
   "cell_type": "code",
   "execution_count": 7,
   "metadata": {},
   "outputs": [
    {
     "data": {
      "text/markdown": [
       "<span style=\"color:#ccaa33\">Check:</span> When you've updated the starter code, `check()` will tell you whether your code is correct. "
      ],
      "text/plain": [
       "Check: When you've updated the starter code, `check()` will tell you whether your code is correct. "
      ]
     },
     "metadata": {},
     "output_type": "display_data"
    }
   ],
   "source": [
    "def is_valid_zip(zip_code):\n",
    "    \"\"\"Returns whether the input string is a valid (5 digit) zip code\n",
    "    \"\"\"\n",
    "    pass\n",
    "\n",
    "q1.check()"
   ]
  },
  {
   "cell_type": "code",
   "execution_count": null,
   "metadata": {},
   "outputs": [],
   "source": []
  },
  {
   "cell_type": "code",
   "execution_count": 34,
   "metadata": {},
   "outputs": [
    {
     "data": {
      "text/markdown": [
       "<span style=\"color:#cc3333\">Incorrect:</span> Expected return value of `True` given `zip_code='12345'`, but got `False` instead."
      ],
      "text/plain": [
       "Incorrect: Expected return value of `True` given `zip_code='12345'`, but got `False` instead."
      ]
     },
     "metadata": {},
     "output_type": "display_data"
    }
   ],
   "source": [
    "def is_valid_zip(zip_code):\n",
    "    \"\"\"Returns whether the input string is a valid (5 digit) zip code\n",
    "    \"\"\"\n",
    "    return zip_code.isdigit() and len(zip_code) == 4\n",
    "\n",
    "q1.check()"
   ]
  },
  {
   "cell_type": "code",
   "execution_count": 10,
   "metadata": {},
   "outputs": [
    {
     "data": {
      "text/markdown": [
       "<span style=\"color:#33cc33\">Correct</span>"
      ],
      "text/plain": [
       "Correct"
      ]
     },
     "metadata": {},
     "output_type": "display_data"
    }
   ],
   "source": [
    "def is_valid_zip(zip_code):\n",
    "    \"\"\"Returns whether the input string is a valid (5 digit) zip code\n",
    "    \"\"\"\n",
    "    return len(zip_code) == 5 and zip_code.isdigit()\n",
    "\n",
    "q1.check()"
   ]
  },
  {
   "cell_type": "code",
   "execution_count": 11,
   "metadata": {},
   "outputs": [
    {
     "data": {
      "text/markdown": [
       "<span style=\"color:#3366cc\">Hint:</span> Try looking up `help(str.isdigit)`"
      ],
      "text/plain": [
       "Hint: Try looking up `help(str.isdigit)`"
      ]
     },
     "metadata": {},
     "output_type": "display_data"
    },
    {
     "data": {
      "text/markdown": [
       "<span style=\"color:#33cc99\">Solution:</span> \n",
       "```python\n",
       "def is_valid_zip(zip_str):\n",
       "    return len(zip_str) == 5 and zip_str.isdigit()\n",
       "```"
      ],
      "text/plain": [
       "Solution: \n",
       "```python\n",
       "def is_valid_zip(zip_str):\n",
       "    return len(zip_str) == 5 and zip_str.isdigit()\n",
       "```"
      ]
     },
     "metadata": {},
     "output_type": "display_data"
    }
   ],
   "source": [
    "q1.hint()\n",
    "q1.solution()"
   ]
  },
  {
   "cell_type": "markdown",
   "metadata": {},
   "source": [
    "## 2.\n",
    "\n",
    "A researcher has gathered thousands of news articles. But she wants to focus her attention on articles including a specific word. Complete the function below to help her filter her list of articles.\n",
    "\n",
    "Your function should meet the following criteria\n",
    "\n",
    "- Do not include documents where the keyword string shows up only as a part of a larger word. For example, if she were looking for the keyword “closed”, you would not include the string “enclosed.” \n",
    "- She does not want you to distinguish upper case from lower case letters. So the phrase “Closed the case.” would be included when the keyword is “closed”\n",
    "- Do not let periods or commas affect what is matched. “It is closed.” would be included when the keyword is “closed”. But you can assume there are no other types of punctuation.\n"
   ]
  },
  {
   "cell_type": "code",
   "execution_count": 12,
   "metadata": {},
   "outputs": [
    {
     "data": {
      "text/markdown": [
       "<span style=\"color:#ccaa33\">Check:</span> When you've updated the starter code, `check()` will tell you whether your code is correct. "
      ],
      "text/plain": [
       "Check: When you've updated the starter code, `check()` will tell you whether your code is correct. "
      ]
     },
     "metadata": {},
     "output_type": "display_data"
    }
   ],
   "source": [
    "def word_search(doc_list, keyword):\n",
    "    \"\"\"\n",
    "    Takes a list of documents (each document is a string) and a keyword. \n",
    "    Returns list of the index values into the original list for all documents \n",
    "    containing the keyword.\n",
    "\n",
    "    Example:\n",
    "    doc_list = [\"The Learn Python Challenge Casino.\", \"They bought a car\", \"Casinoville\"]\n",
    "    >>> word_search(doc_list, 'casino')\n",
    "    >>> [0]\n",
    "    \"\"\"\n",
    "    pass\n",
    "\n",
    "\n",
    "q2.check()"
   ]
  },
  {
   "cell_type": "code",
   "execution_count": 13,
   "metadata": {},
   "outputs": [
    {
     "data": {
      "text/markdown": [
       "<span style=\"color:#33cc33\">Correct</span>"
      ],
      "text/plain": [
       "Correct"
      ]
     },
     "metadata": {},
     "output_type": "display_data"
    }
   ],
   "source": [
    "def word_search(doc_list, keyword):\n",
    "    \"\"\"\n",
    "    Takes a list of documents (each document is a string) and a keyword. \n",
    "    Returns list of the index values into the original list for all documents \n",
    "    containing the keyword.\n",
    "\n",
    "    Example:\n",
    "    doc_list = [\"The Learn Python Challenge Casino.\", \"They bought a car\", \"Casinoville\"]\n",
    "    >>> word_search(doc_list, 'casino')\n",
    "    >>> [0]\n",
    "    \"\"\"\n",
    "    return [i for (i, s) in enumerate(doc_list) if keyword in s.lower().replace(\".\", \" \").replace(\",\", \" \").split()]\n",
    "\n",
    "\n",
    "q2.check()"
   ]
  },
  {
   "cell_type": "code",
   "execution_count": 14,
   "metadata": {},
   "outputs": [
    {
     "data": {
      "text/markdown": [
       "<span style=\"color:#cc3333\">Incorrect:</span> Expected return value of `[0]` given `doc_list=['The Learn Python Challenge Casino', 'They bought a car, and a horse', 'Casinoville?']`, `keyword='casino'`, but got `None` instead."
      ],
      "text/plain": [
       "Incorrect: Expected return value of `[0]` given `doc_list=['The Learn Python Challenge Casino', 'They bought a car, and a horse', 'Casinoville?']`, `keyword='casino'`, but got `None` instead."
      ]
     },
     "metadata": {},
     "output_type": "display_data"
    }
   ],
   "source": [
    "def word_search(doc_list, keyword):\n",
    "    \"\"\"\n",
    "    Takes a list of documents (each document is a string) and a keyword. \n",
    "    Returns list of the index values into the original list for all documents \n",
    "    containing the keyword.\n",
    "\n",
    "    Example:\n",
    "    doc_list = [\"The Learn Python Challenge Casino.\", \"They bought a car\", \"Casinoville\"]\n",
    "    >>> word_search(doc_list, 'casino')\n",
    "    >>> [0]\n",
    "    \"\"\"\n",
    "    res = []\n",
    "    i = 0\n",
    "    for d in doc_list:\n",
    "        if keyword in d:\n",
    "            res.append(i)\n",
    "        i += 1\n",
    "\n",
    "\n",
    "q2.check()"
   ]
  },
  {
   "cell_type": "code",
   "execution_count": 15,
   "metadata": {},
   "outputs": [
    {
     "data": {
      "text/markdown": [
       "<span style=\"color:#cc3333\">Incorrect:</span> Expected return value of `[0]` given `doc_list=['The Learn Python Challenge Casino', 'They bought a car, and a horse', 'Casinoville?']`, `keyword='casino'`, but got `[]` instead."
      ],
      "text/plain": [
       "Incorrect: Expected return value of `[0]` given `doc_list=['The Learn Python Challenge Casino', 'They bought a car, and a horse', 'Casinoville?']`, `keyword='casino'`, but got `[]` instead."
      ]
     },
     "metadata": {},
     "output_type": "display_data"
    }
   ],
   "source": [
    "def word_search(doc_list, keyword):\n",
    "    \"\"\"\n",
    "    Takes a list of documents (each document is a string) and a keyword. \n",
    "    Returns list of the index values into the original list for all documents \n",
    "    containing the keyword.\n",
    "\n",
    "    Example:\n",
    "    doc_list = [\"The Learn Python Challenge Casino.\", \"They bought a car\", \"Casinoville\"]\n",
    "    >>> word_search(doc_list, 'casino')\n",
    "    >>> [0]\n",
    "    \"\"\"\n",
    "    res = []\n",
    "    i = 0\n",
    "    for d in doc_list:\n",
    "        if keyword in d:\n",
    "            res.append(i)\n",
    "        i += 1\n",
    "    return res\n",
    "\n",
    "\n",
    "q2.check()"
   ]
  },
  {
   "cell_type": "code",
   "execution_count": 16,
   "metadata": {},
   "outputs": [
    {
     "data": {
      "text/markdown": [
       "<span style=\"color:#33cc33\">Correct</span>"
      ],
      "text/plain": [
       "Correct"
      ]
     },
     "metadata": {},
     "output_type": "display_data"
    }
   ],
   "source": [
    "def word_search(doc_list, keyword):\n",
    "    \"\"\"\n",
    "    Takes a list of documents (each document is a string) and a keyword. \n",
    "    Returns list of the index values into the original list for all documents \n",
    "    containing the keyword.\n",
    "\n",
    "    Example:\n",
    "    doc_list = [\"The Learn Python Challenge Casino.\", \"They bought a car\", \"Casinoville\"]\n",
    "    >>> word_search(doc_list, 'casino')\n",
    "    >>> [0]\n",
    "    \"\"\"\n",
    "    res = []\n",
    "    i = 0\n",
    "    for d in doc_list:\n",
    "        if keyword.lower() in [token.lower().strip('.,') for token in d.split()]:\n",
    "            res.append(i)\n",
    "        i += 1\n",
    "    return res\n",
    "\n",
    "\n",
    "q2.check()"
   ]
  },
  {
   "cell_type": "code",
   "execution_count": 17,
   "metadata": {},
   "outputs": [
    {
     "data": {
      "text/markdown": [
       "<span style=\"color:#3366cc\">Hint:</span> Some methods that may be useful here: `str.split()`, `str.strip()`, `str.lower()`."
      ],
      "text/plain": [
       "Hint: Some methods that may be useful here: `str.split()`, `str.strip()`, `str.lower()`."
      ]
     },
     "metadata": {},
     "output_type": "display_data"
    },
    {
     "data": {
      "text/markdown": [
       "<span style=\"color:#33cc99\">Solution:</span> \n",
       "```python\n",
       "def word_search(documents, keyword):\n",
       "    indices = []\n",
       "    for i, doc in enumerate(documents):\n",
       "        tokens = doc.split()\n",
       "        normalized = [token.rstrip('.,').lower() for token in tokens]\n",
       "        if keyword.lower() in normalized:\n",
       "            indices.append(i)\n",
       "    return indices\n",
       "```"
      ],
      "text/plain": [
       "Solution: \n",
       "```python\n",
       "def word_search(documents, keyword):\n",
       "    indices = []\n",
       "    for i, doc in enumerate(documents):\n",
       "        tokens = doc.split()\n",
       "        normalized = [token.rstrip('.,').lower() for token in tokens]\n",
       "        if keyword.lower() in normalized:\n",
       "            indices.append(i)\n",
       "    return indices\n",
       "```"
      ]
     },
     "metadata": {},
     "output_type": "display_data"
    }
   ],
   "source": [
    "q2.hint()\n",
    "q2.solution()"
   ]
  },
  {
   "cell_type": "markdown",
   "metadata": {},
   "source": [
    "## 3.\n",
    "\n",
    "Now the researcher wants to supply multiple keywords to search for. Complete the function below to help her.\n",
    "\n",
    "(You're encouraged to use the `word_search` function you just wrote when implementing this function. Reusing code in this way makes your programs more robust and readable - and it saves typing!)"
   ]
  },
  {
   "cell_type": "code",
   "execution_count": 18,
   "metadata": {},
   "outputs": [
    {
     "data": {
      "text/markdown": [
       "<span style=\"color:#ccaa33\">Check:</span> When you've updated the starter code, `check()` will tell you whether your code is correct. "
      ],
      "text/plain": [
       "Check: When you've updated the starter code, `check()` will tell you whether your code is correct. "
      ]
     },
     "metadata": {},
     "output_type": "display_data"
    }
   ],
   "source": [
    "def multi_word_search(doc_list, keywords):\n",
    "    \"\"\"\n",
    "    Takes list of documents (each document is a string) and a list of keywords.  \n",
    "    Returns a dictionary where each key is a keyword, and the value is a list of indices\n",
    "    (from doc_list) of the documents containing that keyword\n",
    "\n",
    "    >>> doc_list = [\"The Learn Python Challenge Casino.\", \"They bought a car and a casino\", \"Casinoville\"]\n",
    "    >>> keywords = ['casino', 'they']\n",
    "    >>> multi_word_search(doc_list, keywords)\n",
    "    {'casino': [0, 1], 'they': [1]}\n",
    "    \"\"\"\n",
    "    pass\n",
    "\n",
    "q3.check()"
   ]
  },
  {
   "cell_type": "code",
   "execution_count": 19,
   "metadata": {},
   "outputs": [
    {
     "data": {
      "text/markdown": [
       "<span style=\"color:#33cc33\">Correct</span>"
      ],
      "text/plain": [
       "Correct"
      ]
     },
     "metadata": {},
     "output_type": "display_data"
    }
   ],
   "source": [
    "def multi_word_search(doc_list, keywords):\n",
    "    \"\"\"\n",
    "    Takes list of documents (each document is a string) and a list of keywords.  \n",
    "    Returns a dictionary where each key is a keyword, and the value is a list of indices\n",
    "    (from doc_list) of the documents containing that keyword\n",
    "\n",
    "    >>> doc_list = [\"The Learn Python Challenge Casino.\", \"They bought a car and a casino\", \"Casinoville\"]\n",
    "    >>> keywords = ['casino', 'they']\n",
    "    >>> multi_word_search(doc_list, keywords)\n",
    "    {'casino': [0, 1], 'they': [1]}\n",
    "    \"\"\"\n",
    "    result = {}\n",
    "    for keyword in keywords:\n",
    "        result[keyword] = word_search(doc_list, keyword)\n",
    "    return result\n",
    "\n",
    "q3.check()"
   ]
  },
  {
   "cell_type": "code",
   "execution_count": 20,
   "metadata": {},
   "outputs": [
    {
     "data": {
      "text/markdown": [
       "<span style=\"color:#cc3333\">Incorrect:</span> Expected return value of `{}` given `doc_list=['The Learn Python Challenge Casino', 'They bought a car', 'Casinoville?']`, `keywords=[]`, but got `None` instead."
      ],
      "text/plain": [
       "Incorrect: Expected return value of `{}` given `doc_list=['The Learn Python Challenge Casino', 'They bought a car', 'Casinoville?']`, `keywords=[]`, but got `None` instead."
      ]
     },
     "metadata": {},
     "output_type": "display_data"
    }
   ],
   "source": [
    "def multi_word_search(doc_list, keywords):\n",
    "    \"\"\"\n",
    "    Takes list of documents (each document is a string) and a list of keywords.  \n",
    "    Returns a dictionary where each key is a keyword, and the value is a list of indices\n",
    "    (from doc_list) of the documents containing that keyword\n",
    "\n",
    "    >>> doc_list = [\"The Learn Python Challenge Casino.\", \"They bought a car and a casino\", \"Casinoville\"]\n",
    "    >>> keywords = ['casino', 'they']\n",
    "    >>> multi_word_search(doc_list, keywords)\n",
    "    {'casino': [0, 1], 'they': [1]}\n",
    "    \"\"\"\n",
    "    res = {}\n",
    "    for k in keywords:\n",
    "        res[k] = word_search(doc_list, k)\n",
    "\n",
    "q3.check()"
   ]
  },
  {
   "cell_type": "code",
   "execution_count": 21,
   "metadata": {},
   "outputs": [
    {
     "data": {
      "text/markdown": [
       "<span style=\"color:#33cc33\">Correct</span>"
      ],
      "text/plain": [
       "Correct"
      ]
     },
     "metadata": {},
     "output_type": "display_data"
    }
   ],
   "source": [
    "def multi_word_search(doc_list, keywords):\n",
    "    \"\"\"\n",
    "    Takes list of documents (each document is a string) and a list of keywords.  \n",
    "    Returns a dictionary where each key is a keyword, and the value is a list of indices\n",
    "    (from doc_list) of the documents containing that keyword\n",
    "\n",
    "    >>> doc_list = [\"The Learn Python Challenge Casino.\", \"They bought a car and a casino\", \"Casinoville\"]\n",
    "    >>> keywords = ['casino', 'they']\n",
    "    >>> multi_word_search(doc_list, keywords)\n",
    "    {'casino': [0, 1], 'they': [1]}\n",
    "    \"\"\"\n",
    "    res = {}\n",
    "    for k in keywords:\n",
    "        res[k] = word_search(doc_list, k)\n",
    "    return res\n",
    "\n",
    "q3.check()"
   ]
  },
  {
   "cell_type": "code",
   "execution_count": 22,
   "metadata": {},
   "outputs": [
    {
     "data": {
      "text/markdown": [
       "<span style=\"color:#33cc99\">Solution:</span> \n",
       "```python\n",
       "def multi_word_search(documents, keywords):\n",
       "    keyword_to_indices = {}\n",
       "    for keyword in keywords:\n",
       "        keyword_to_indices[keyword] = word_search(documents, keyword)\n",
       "    return keyword_to_indices\n",
       "```"
      ],
      "text/plain": [
       "Solution: \n",
       "```python\n",
       "def multi_word_search(documents, keywords):\n",
       "    keyword_to_indices = {}\n",
       "    for keyword in keywords:\n",
       "        keyword_to_indices[keyword] = word_search(documents, keyword)\n",
       "    return keyword_to_indices\n",
       "```"
      ]
     },
     "metadata": {},
     "output_type": "display_data"
    }
   ],
   "source": [
    "q3.solution()"
   ]
  },
  {
   "cell_type": "markdown",
   "metadata": {},
   "source": [
    "## 4. 🌶🌶\n",
    "\n",
    "Diamonds are beautiful, but they are just so expensive. Write a python program to create counterfeit ASCII diamonds such as the following:\n",
    "```\n",
    "    /\\\n",
    "   //\\\\\n",
    "  ///\\\\\\\n",
    " ////\\\\\\\\\n",
    "/////\\\\\\\\\\\n",
    "\\\\\\\\\\/////\n",
    " \\\\\\\\////\n",
    "  \\\\\\///\n",
    "   \\\\//\n",
    "    \\/\n",
    "```\n",
    "\n",
    "Your function should allow the caller to choose the size of the diamond (in terms of number of lines). The above diamond has a height of 10. Here's a 4-line diamond:\n",
    "\n",
    "```\n",
    " /\\ \n",
    "//\\\\\n",
    "\\\\//\n",
    " \\/ \n",
    "```\n",
    "\n",
    "(You can assume your function will only be called with even numbers)"
   ]
  },
  {
   "cell_type": "code",
   "execution_count": 23,
   "metadata": {},
   "outputs": [
    {
     "name": "stdout",
     "output_type": "stream",
     "text": [
      "None\n"
     ]
    },
    {
     "data": {
      "text/markdown": [
       "<span style=\"color:#ccaa33\">Check:</span> When you've updated the starter code, `check()` will tell you whether your code is correct. "
      ],
      "text/plain": [
       "Check: When you've updated the starter code, `check()` will tell you whether your code is correct. "
      ]
     },
     "metadata": {},
     "output_type": "display_data"
    }
   ],
   "source": [
    "def diamond(height):\n",
    "    \"\"\"Return a string resembling a diamond of specified height (measured in lines).\n",
    "    height must be an even integer.\n",
    "    \"\"\"\n",
    "    pass\n",
    "\n",
    "print(diamond(4)) # Print results first to get visual feedback before checking your answer\n",
    "q4.check()"
   ]
  },
  {
   "cell_type": "code",
   "execution_count": 24,
   "metadata": {},
   "outputs": [
    {
     "name": "stdout",
     "output_type": "stream",
     "text": [
      "hh: 2\n",
      " /\\\n",
      "//\\\\\n",
      "\\\\//\n",
      " \\/\n",
      "hh: 1\n",
      "/\\\n",
      "\\/\n",
      "hh: 1\n",
      "hh: 2\n",
      "hh: 0\n",
      "hh: 3\n"
     ]
    },
    {
     "data": {
      "text/markdown": [
       "<span style=\"color:#33cc33\">Correct</span>"
      ],
      "text/plain": [
       "Correct"
      ]
     },
     "metadata": {},
     "output_type": "display_data"
    }
   ],
   "source": [
    "def diamond(height):\n",
    "    \"\"\"Return a string resembling a diamond of specified height (measured in lines).\n",
    "    height must be an even integer.\n",
    "    \"\"\"\n",
    "    hh = height // 2\n",
    "    print(\"hh:\",hh)\n",
    "    def line(spaces, f, b):\n",
    "        return \" \" * spaces + f * (hh - spaces) + b * (hh - spaces)\n",
    "    l = \"\\n\".join([line(hh - s - 1, \"/\", \"\\\\\") for s in range(hh)] + [line(s, \"\\\\\", \"/\") for s in range(hh)])\n",
    "    #print(l)\n",
    "    return l\n",
    "    #return line(0, \"A\", \"B\")\n",
    "    \n",
    "\n",
    "print(diamond(4)) # Print results first to get visual feedback before checking your answer\n",
    "print(diamond(2))\n",
    "q4.check()"
   ]
  },
  {
   "cell_type": "markdown",
   "metadata": {},
   "source": [
    "We've provided an example height-4 diamond below as a Python string. It may help to inspect it in the console."
   ]
  },
  {
   "cell_type": "code",
   "execution_count": 25,
   "metadata": {},
   "outputs": [
    {
     "name": "stdout",
     "output_type": "stream",
     "text": [
      " /\\ \n",
      "//\\\\\n",
      "\\\\//\n",
      " \\/ \n"
     ]
    }
   ],
   "source": [
    "d4 = \"\"\" /\\\\ \n",
    "//\\\\\\\\\n",
    "\\\\\\\\//\n",
    " \\\\/ \"\"\"\n",
    "print(d4)"
   ]
  },
  {
   "cell_type": "code",
   "execution_count": 26,
   "metadata": {},
   "outputs": [
    {
     "data": {
      "text/markdown": [
       "<span style=\"color:#3366cc\">Hint:</span> `str` has a few methods that help with the problem of padding a string to a certain size: two that might help here are `str.rjust()` or `str.center()`"
      ],
      "text/plain": [
       "Hint: `str` has a few methods that help with the problem of padding a string to a certain size: two that might help here are `str.rjust()` or `str.center()`"
      ]
     },
     "metadata": {},
     "output_type": "display_data"
    },
    {
     "data": {
      "text/markdown": [
       "<span style=\"color:#33cc99\">Solution:</span> \n",
       "```python\n",
       "def diamond(height):\n",
       "    s = ''\n",
       "    # The characters currently being used to build the left and right half of \n",
       "    # the diamond, respectively. (We need to escape the backslash with another\n",
       "    # backslash so Python knows we mean a literal \"\\\" character.)\n",
       "    l, r = '/', '\\\\'\n",
       "    # The \"radius\" of the diamond (used in lots of calculations)\n",
       "    rad = height // 2\n",
       "    for row in range(height):\n",
       "        # The first time we pass the halfway mark, swap the left and right characters\n",
       "        if row == rad:\n",
       "            l, r = r, l\n",
       "        if row < rad:\n",
       "            # For the first row, use one left character and one right. For\n",
       "            # the second row, use two of each, and so on...\n",
       "            nchars = row+1\n",
       "        else:\n",
       "            # Until we go past the midpoint. Then we start counting back down to 1.\n",
       "            nchars = height - row\n",
       "        left = (l * nchars).rjust(rad)\n",
       "        right = (r * nchars).ljust(rad)\n",
       "        s += left + right + '\\n'\n",
       "    # Trim the last newline - we want every line to end with a newline character\n",
       "    # *except* the last\n",
       "    return s[:-1]\n",
       "```"
      ],
      "text/plain": [
       "Solution: \n",
       "```python\n",
       "def diamond(height):\n",
       "    s = ''\n",
       "    # The characters currently being used to build the left and right half of \n",
       "    # the diamond, respectively. (We need to escape the backslash with another\n",
       "    # backslash so Python knows we mean a literal \"\\\" character.)\n",
       "    l, r = '/', '\\\\'\n",
       "    # The \"radius\" of the diamond (used in lots of calculations)\n",
       "    rad = height // 2\n",
       "    for row in range(height):\n",
       "        # The first time we pass the halfway mark, swap the left and right characters\n",
       "        if row == rad:\n",
       "            l, r = r, l\n",
       "        if row < rad:\n",
       "            # For the first row, use one left character and one right. For\n",
       "            # the second row, use two of each, and so on...\n",
       "            nchars = row+1\n",
       "        else:\n",
       "            # Until we go past the midpoint. Then we start counting back down to 1.\n",
       "            nchars = height - row\n",
       "        left = (l * nchars).rjust(rad)\n",
       "        right = (r * nchars).ljust(rad)\n",
       "        s += left + right + '\\n'\n",
       "    # Trim the last newline - we want every line to end with a newline character\n",
       "    # *except* the last\n",
       "    return s[:-1]\n",
       "```"
      ]
     },
     "metadata": {},
     "output_type": "display_data"
    }
   ],
   "source": [
    "q4.hint()\n",
    "q4.solution()"
   ]
  },
  {
   "cell_type": "markdown",
   "metadata": {},
   "source": [
    "## 5. 🌶🌶\n",
    "\n",
    "You’ve received a tip-off that the roulette wheel at the Learn Challenge Casino has some exploitable bias where the probability of landing on a given number changes depending on the number previously landed on. Analyze a list containing a history of roulette spins. \n",
    "\n",
    "Return a dictionary where the keys are numbers on the roulette wheel, and the values are dictionaries mapping numbers on the wheel to probabilities, such that d[n1][n2] is an estimate of the probability that the next spin will land on n2, given that the previous spin landed on n1.\n",
    "\n",
    "Assume the history is long enough that all values on the wheel are seen at least once."
   ]
  },
  {
   "cell_type": "code",
   "execution_count": 35,
   "metadata": {},
   "outputs": [
    {
     "name": "stdout",
     "output_type": "stream",
     "text": [
      "None\n"
     ]
    },
    {
     "data": {
      "text/markdown": [
       "<span style=\"color:#ccaa33\">Check:</span> When you've updated the starter code, `check()` will tell you whether your code is correct. "
      ],
      "text/plain": [
       "Check: When you've updated the starter code, `check()` will tell you whether your code is correct. "
      ]
     },
     "metadata": {},
     "output_type": "display_data"
    }
   ],
   "source": [
    "def conditional_roulette_probs(history):\n",
    "    \"\"\"\n",
    "\n",
    "    Example: \n",
    "    conditional_roulette_probs([1, 3, 1, 5, 1])\n",
    "    > {1: {3: 0.5, 5: 0.5}, \n",
    "       3: {1: 1.0},\n",
    "       5: {1: 1.0}\n",
    "      }\n",
    "    \"\"\"\n",
    "    pass\n",
    "\n",
    "\n",
    "print(conditional_roulette_probs([1, 3, 1, 5, 1])) # helpful for debugging\n",
    "q5.check()"
   ]
  },
  {
   "cell_type": "code",
   "execution_count": 36,
   "metadata": {},
   "outputs": [
    {
     "name": "stdout",
     "output_type": "stream",
     "text": [
      "{}\n"
     ]
    },
    {
     "data": {
      "text/markdown": [
       "<span style=\"color:#cc3333\">Incorrect:</span> Expected return value of `{1: {3: 0.5, 5: 0.5}, 3: {1: 1.0}, 5: {1: 1.0}}` given `history=[1, 3, 1, 5, 1]`, but got `{}` instead."
      ],
      "text/plain": [
       "Incorrect: Expected return value of `{1: {3: 0.5, 5: 0.5}, 3: {1: 1.0}, 5: {1: 1.0}}` given `history=[1, 3, 1, 5, 1]`, but got `{}` instead."
      ]
     },
     "metadata": {},
     "output_type": "display_data"
    }
   ],
   "source": [
    "def conditional_roulette_probs(history):\n",
    "    \"\"\"\n",
    "\n",
    "    Example: \n",
    "    conditional_roulette_probs([1, 3, 1, 5, 1])\n",
    "    > {1: {3: 0.5, 5: 0.5}, \n",
    "       3: {1: 1.0},\n",
    "       5: {1: 1.0}\n",
    "      }\n",
    "    \"\"\"\n",
    "    x = {}\n",
    "    for thing in history:\n",
    "        pass\n",
    "    return x\n",
    "\n",
    "\n",
    "print(conditional_roulette_probs([1, 3, 1, 5, 1])) # helpful for debugging\n",
    "q5.check()"
   ]
  },
  {
   "cell_type": "code",
   "execution_count": 28,
   "metadata": {},
   "outputs": [
    {
     "data": {
      "text/markdown": [
       "<span style=\"color:#33cc99\">Solution:</span> \n",
       "```python\n",
       "def conditional_roulette_probs(history):\n",
       "    counts = {}\n",
       "    for i in range(1, len(history)):\n",
       "        roll, prev = history[i], history[i-1]\n",
       "        if prev not in counts:\n",
       "            counts[prev] = {}\n",
       "        if roll not in counts[prev]:\n",
       "            counts[prev][roll] = 0\n",
       "        counts[prev][roll] += 1\n",
       "\n",
       "    # We have the counts, but still need to turn them into probabilities\n",
       "    probs = {}\n",
       "    for prev, nexts in counts.items():\n",
       "        # The total spins that landed on prev (not counting the very last spin)\n",
       "        total = sum(nexts.values())\n",
       "        sub_probs = {next_spin: next_count/total\n",
       "                for next_spin, next_count in nexts.items()}\n",
       "        probs[prev] = sub_probs\n",
       "    return probs\n",
       "\n",
       "```"
      ],
      "text/plain": [
       "Solution: \n",
       "```python\n",
       "def conditional_roulette_probs(history):\n",
       "    counts = {}\n",
       "    for i in range(1, len(history)):\n",
       "        roll, prev = history[i], history[i-1]\n",
       "        if prev not in counts:\n",
       "            counts[prev] = {}\n",
       "        if roll not in counts[prev]:\n",
       "            counts[prev][roll] = 0\n",
       "        counts[prev][roll] += 1\n",
       "\n",
       "    # We have the counts, but still need to turn them into probabilities\n",
       "    probs = {}\n",
       "    for prev, nexts in counts.items():\n",
       "        # The total spins that landed on prev (not counting the very last spin)\n",
       "        total = sum(nexts.values())\n",
       "        sub_probs = {next_spin: next_count/total\n",
       "                for next_spin, next_count in nexts.items()}\n",
       "        probs[prev] = sub_probs\n",
       "    return probs\n",
       "\n",
       "```"
      ]
     },
     "metadata": {},
     "output_type": "display_data"
    }
   ],
   "source": [
    "q5.solution()"
   ]
  },
  {
   "cell_type": "markdown",
   "metadata": {},
   "source": [
    "If you have any questions or just want to chat about Python, check out the [forum](https://kaggle.com/learn-forum).\n",
    "\n",
    "Want feedback on your code? To share it with others or ask for help, you'll need to make it public. Save a version of your notebook that shows your current work by hitting the \"Commit & Run\" button. Once your notebook is finished running, go to the Settings tab in the panel to the left (you may have to expand it by hitting the [<] button next to the \"Commit & Run\" button) and set the \"Visibility\" dropdown to \"Public\".\n",
    "\n",
    "Tomorrow is the last day of the challenge. I hope you've learned a lot of Python, and I hope you'll be ready to learn more then."
   ]
  }
 ],
 "metadata": {
  "kernelspec": {
   "display_name": "Python 3",
   "language": "python",
   "name": "python3"
  },
  "language_info": {
   "codemirror_mode": {
    "name": "ipython",
    "version": 3
   },
   "file_extension": ".py",
   "mimetype": "text/x-python",
   "name": "python",
   "nbconvert_exporter": "python",
   "pygments_lexer": "ipython3",
   "version": "3.5.3"
  }
 },
 "nbformat": 4,
 "nbformat_minor": 2
}
