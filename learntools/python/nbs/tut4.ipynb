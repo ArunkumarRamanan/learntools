{
  "cells": [
    {
      "metadata": {
        "_uuid": "29f1ee0f54a85d9631137eb2dcc1eec5ba34132b",
        "_cell_guid": "89829688-b2f4-42d8-bc74-73e4ab213dc1"
      },
      "cell_type": "markdown",
      "source": "## Lists\n\nLists are the basic *ordered* and *mutable* data collection type in Python.\nThey can be defined with comma-separated values between square brackets; for example, here is a list of the first several prime numbers:"
    },
    {
      "metadata": {
        "_uuid": "f23b210c7709bacd066a8ba9730a2f490b61aa9f",
        "_cell_guid": "0f21656b-be8a-43c2-8d5e-0f28d598556b",
        "collapsed": true,
        "trusted": false
      },
      "cell_type": "code",
      "source": "L = [2, 3, 5, 7]",
      "execution_count": null,
      "outputs": []
    },
    {
      "metadata": {
        "_uuid": "4280248027b14dd9fb1bba3e197976a046416504",
        "_cell_guid": "b912792a-4c38-4dae-bc21-ba5376361495"
      },
      "cell_type": "markdown",
      "source": "Lists have a number of useful properties and methods available to them.\nHere we'll take a quick look at some of the more common and useful ones:"
    },
    {
      "metadata": {
        "_uuid": "2f8b29be8e4f38bd89414a3af21dbd937c93f6f3",
        "_cell_guid": "d79383d5-196d-4aa5-8c38-113074fd5e55",
        "collapsed": true,
        "trusted": false
      },
      "cell_type": "code",
      "source": "# Length of a list\nlen(L)",
      "execution_count": null,
      "outputs": []
    },
    {
      "metadata": {
        "_uuid": "a96cd7005e66d8e6bee32e8c72dd56f2446e6a08",
        "_cell_guid": "c04f3e6e-a487-4925-b8a5-717bb58ffa86",
        "collapsed": true,
        "trusted": false
      },
      "cell_type": "code",
      "source": "# Append a value to the end\nL.append(11)\nL",
      "execution_count": null,
      "outputs": []
    },
    {
      "metadata": {
        "_uuid": "e9898527d661e26d3a3852e094fd52fa8b72bacc",
        "_cell_guid": "59e0bbf0-3abd-4140-b3ba-d3702c4a68f3",
        "collapsed": true,
        "trusted": false
      },
      "cell_type": "code",
      "source": "# Addition concatenates lists\nL + [13, 17, 19]",
      "execution_count": null,
      "outputs": []
    },
    {
      "metadata": {
        "_uuid": "8b101d6966eb7562f530cadbf6929f577a397bd8",
        "_cell_guid": "f16e09db-28ee-4126-808b-410267653165",
        "collapsed": true,
        "trusted": false
      },
      "cell_type": "code",
      "source": "# sort() method sorts in-place\nL = [2, 5, 1, 6, 3, 4]\nL.sort()\nL",
      "execution_count": null,
      "outputs": []
    },
    {
      "metadata": {
        "_uuid": "bd9f2e7e346c53d67b4c92df1fe803522efebb98",
        "_cell_guid": "2844bc7e-e32a-4075-b270-2b3ed889c784"
      },
      "cell_type": "markdown",
      "source": "In addition, there are many more built-in list methods; they are well-covered in Python's [online documentation](https://docs.python.org/3/tutorial/datastructures.html). You can also type `help(list)` to access the builtin documentation on all of list's available methods. Or to read the help on a specific method, you can run something like `help(list.sort)`.\n\nWhile we've been demonstrating lists containing values of a single type, one of the powerful features of Python's compound objects is that they can contain objects of *any* type, or even a mix of types. For example:"
    },
    {
      "metadata": {
        "_uuid": "0118a1655b1d0ea3569c8b89e9297ba7861aeecf",
        "_cell_guid": "75311be0-b300-4893-89e8-85d7e3489c02",
        "collapsed": true,
        "trusted": false
      },
      "cell_type": "code",
      "source": "L = [1, 'two', 3.14, [0, 3, 5]]",
      "execution_count": null,
      "outputs": []
    },
    {
      "metadata": {
        "_uuid": "f7ea2fa6d4e5dea9f512d75524c523e24f962cba",
        "_cell_guid": "3bb212cf-d8c0-47b0-a932-79f0cfd214b3"
      },
      "cell_type": "markdown",
      "source": "This flexibility is a consequence of Python's dynamic type system.\nCreating such a mixed sequence in a statically-typed language like C can be much more of a headache!\nWe see that lists can even contain other lists as elements.\nSuch type flexibility is an essential piece of what makes Python code relatively quick and easy to write.\n\nSo far we've been considering manipulations of lists as a whole; another essential piece is the accessing of individual elements.\nThis is done in Python via *indexing* and *slicing*, which we'll explore next."
    },
    {
      "metadata": {
        "_uuid": "34cfd9b7bfa010c3808418f383e4afc6935c2e28",
        "_cell_guid": "17963e60-9972-47e4-ae62-921af6a40caf"
      },
      "cell_type": "markdown",
      "source": "### List indexing and slicing\nPython provides access to elements in compound types through *indexing* for single elements, and *slicing* for multiple elements.\nAs we'll see, both are indicated by a square-bracket syntax.\nSuppose we return to our list of the first several primes:"
    },
    {
      "metadata": {
        "_uuid": "0a1c04a5c59adc342a3bd4b6adf1e21935f656af",
        "_cell_guid": "639bedf6-b3a7-4f90-9c67-69e25e7d9e69",
        "collapsed": true,
        "trusted": false
      },
      "cell_type": "code",
      "source": "L = [2, 3, 5, 7, 11]",
      "execution_count": null,
      "outputs": []
    },
    {
      "metadata": {
        "_uuid": "6663065fa883a6fb71cdcea2cfdf3daa7e00bb46",
        "_cell_guid": "c4afeb73-8440-44ac-a4c7-81462e339511"
      },
      "cell_type": "markdown",
      "source": "Python uses *zero-based* indexing, so we can access the first and second element in `L` using the following syntax:"
    },
    {
      "metadata": {
        "_uuid": "f1ca1fc327bb449cdc08fa9ec252283b00af5f4f",
        "_cell_guid": "e58fd1dd-2a35-424a-8743-0ad08bd5e843",
        "collapsed": true,
        "trusted": false
      },
      "cell_type": "code",
      "source": "L[0]",
      "execution_count": null,
      "outputs": []
    },
    {
      "metadata": {
        "_uuid": "3d7d70094e61bdced7ea3e6c2f371acde9a511b6",
        "_cell_guid": "693da505-9b85-4942-97a7-349f3bd6fc8c",
        "collapsed": true,
        "trusted": false
      },
      "cell_type": "code",
      "source": "L[1]",
      "execution_count": null,
      "outputs": []
    },
    {
      "metadata": {
        "_uuid": "dd4e4d5fb660aeba1f7fe2332fff41849fe138e0",
        "_cell_guid": "9aaf7e0f-2947-4079-a1f0-b6aecceeac62"
      },
      "cell_type": "markdown",
      "source": "Elements at the end of the list can be accessed with negative numbers, starting from -1:"
    },
    {
      "metadata": {
        "_uuid": "af5e27cf959cb9ffc6ab3815c0fffbcbc7e81214",
        "_cell_guid": "eb587f62-a2d1-4fae-b3b7-59ccd75b3d3f",
        "collapsed": true,
        "trusted": false
      },
      "cell_type": "code",
      "source": "L[-1]",
      "execution_count": null,
      "outputs": []
    },
    {
      "metadata": {
        "_uuid": "a11991a9021359a22c450eada89f07c63b385e78",
        "_cell_guid": "7faa61ae-a289-47f7-b890-96d56a605376",
        "collapsed": true,
        "trusted": false
      },
      "cell_type": "code",
      "source": "L[-2]",
      "execution_count": null,
      "outputs": []
    },
    {
      "metadata": {
        "_uuid": "c1e7b4556e6b510310f76cae1c2fb88287a38c14",
        "_cell_guid": "f5281c9c-6b15-4252-9565-931814f1c7d5"
      },
      "cell_type": "markdown",
      "source": "You can visualize this indexing scheme this way:"
    },
    {
      "metadata": {
        "_uuid": "bd60d1cbdb5e4418d5e3fd43d0ba534114f0f9c1",
        "_cell_guid": "8f890eab-1aab-4114-b383-912a094fe768"
      },
      "cell_type": "markdown",
      "source": "![List Indexing Figure](fig/list-indexing.png)"
    },
    {
      "metadata": {
        "_uuid": "0d988d0345a0cf34f55e87664b05168cc66a1ea0",
        "_cell_guid": "c3f68420-7d7a-4741-81c0-b461afe6587a"
      },
      "cell_type": "markdown",
      "source": "Here values in the list are represented by large numbers in the squares; list indices are represented by small numbers above and below.\nIn this case, ``L[2]`` returns ``5``, because that is the next value at index ``2``."
    },
    {
      "metadata": {
        "_uuid": "4d1f6d1dde7a1500d9368f3fd74c94a7e8b1cd46",
        "_cell_guid": "443b6b7e-0b0e-4014-a22e-f355b29cdbfb"
      },
      "cell_type": "markdown",
      "source": "Where *indexing* is a means of fetching a single value from the list, *slicing* is a means of accessing multiple values in sub-lists.\nIt uses a colon to indicate the start point (inclusive) and end point (non-inclusive) of the sub-array.\nFor example, to get the first three elements of the list, we can write:"
    },
    {
      "metadata": {
        "_uuid": "f3d9294ce5e5083d5705b15fa771ffeb1d130d4f",
        "_cell_guid": "c279cf8d-b368-4f78-9e87-bfcff1329069",
        "collapsed": true,
        "trusted": false
      },
      "cell_type": "code",
      "source": "L[0:3]",
      "execution_count": null,
      "outputs": []
    },
    {
      "metadata": {
        "_uuid": "d36970ca568effd58861319cc90cc543ec276443",
        "_cell_guid": "df1a6cda-7763-4f73-94ab-70022b56b2ea"
      },
      "cell_type": "markdown",
      "source": "Notice where ``0`` and ``3`` lie in the preceding diagram, and how the slice takes just the values between the indices.\nIf we leave out the first index, ``0`` is assumed, so we can equivalently write:"
    },
    {
      "metadata": {
        "_uuid": "13c1d4b132a10236cdce6e38eacca8af3932fd7d",
        "_cell_guid": "cf7f5fc9-9d15-4749-a4d9-676a9e811988",
        "collapsed": true,
        "trusted": false
      },
      "cell_type": "code",
      "source": "L[:3]",
      "execution_count": null,
      "outputs": []
    },
    {
      "metadata": {
        "_uuid": "1a10bce15bfadc86345f33c376186cc4c1e15ce4",
        "_cell_guid": "2e5e8191-05ab-4071-bfee-d557bb9d4c79"
      },
      "cell_type": "markdown",
      "source": "Similarly, if we leave out the last index, it defaults to the length of the list.\nThus, the last three elements can be accessed as follows:"
    },
    {
      "metadata": {
        "_uuid": "30074099eb59a36ad03fa6cee503d5a834a42535",
        "_cell_guid": "78d7180d-2883-436f-b503-698ae13f3112",
        "collapsed": true,
        "trusted": false
      },
      "cell_type": "code",
      "source": "L[-3:]",
      "execution_count": null,
      "outputs": []
    },
    {
      "metadata": {
        "_uuid": "0753b85590bad7b39d1307b25f2a352dd2ccc33e",
        "_cell_guid": "50da9115-764e-446d-b986-a16292f061ff"
      },
      "cell_type": "markdown",
      "source": "Finally, it is possible to specify a third integer that represents the step size; for example, to select every second element of the list, we can write:"
    },
    {
      "metadata": {
        "_uuid": "4bf02461f28f0e0ce9641b17ac78658a234035c4",
        "_cell_guid": "0195b8dd-2b99-4236-b3e9-4246b8db1a49",
        "collapsed": true,
        "trusted": false
      },
      "cell_type": "code",
      "source": "L[::2]  # equivalent to L[0:len(L):2]",
      "execution_count": null,
      "outputs": []
    },
    {
      "metadata": {
        "_uuid": "2d1c0b0e1f4f606d575180790f75d730e60a0254",
        "_cell_guid": "91177bb9-1ebc-4a2d-bdd8-34c83e70716b"
      },
      "cell_type": "markdown",
      "source": "A particularly useful version of this is to specify a negative step, which will reverse the array:"
    },
    {
      "metadata": {
        "_uuid": "7021c162cd51bcb46b0466d6fe905e3979b62728",
        "_cell_guid": "2e8bdc5a-42f5-4528-aae5-eb34375225b8",
        "collapsed": true,
        "trusted": false
      },
      "cell_type": "code",
      "source": "L[::-1]",
      "execution_count": null,
      "outputs": []
    },
    {
      "metadata": {
        "_uuid": "8d1276414f049b362672877503292605c72b34e9",
        "_cell_guid": "4ad2a5ee-b9c1-4daf-ae97-0c5c584a7815"
      },
      "cell_type": "markdown",
      "source": "Both indexing and slicing can be used to set elements as well as access them.\nThe syntax is as you would expect:"
    },
    {
      "metadata": {
        "_uuid": "f5cd4e08037cbf30d555b9b5bd4cb3e7cc171652",
        "_cell_guid": "4caf86ad-8aca-45d3-b9f0-29c852d53693",
        "collapsed": true,
        "trusted": false
      },
      "cell_type": "code",
      "source": "L[0] = 100\nprint(L)",
      "execution_count": null,
      "outputs": []
    },
    {
      "metadata": {
        "_uuid": "298161e35ba8608a2c2c29aa079cb225da299a85",
        "_cell_guid": "93704d63-b563-4e54-9f09-b1a72316b7cb",
        "collapsed": true,
        "trusted": false
      },
      "cell_type": "code",
      "source": "L[1:3] = [55, 56]\nprint(L)",
      "execution_count": null,
      "outputs": []
    },
    {
      "metadata": {
        "_uuid": "0a2b7435bfdcf30e336b1095fee5c7127e49e202",
        "_cell_guid": "7e33fd22-0c22-4868-b186-b9978c90d961"
      },
      "cell_type": "markdown",
      "source": "A very similar slicing syntax is also used in many data science-oriented packages, including NumPy and Pandas.\n\nNow that we have seen Python lists and how to access elements in ordered compound types, let's take a look at the other three standard compound data types mentioned earlier."
    },
    {
      "metadata": {
        "_uuid": "4912df7272944136a0a6e73adb2583696ce79f29",
        "_cell_guid": "f7db8275-f86c-4ed0-b130-953a2828137f"
      },
      "cell_type": "markdown",
      "source": "## Tuples\nTuples are in many ways similar to lists, but they are defined with parentheses rather than square brackets:"
    },
    {
      "metadata": {
        "_uuid": "41d1b9c9d53c6e14ac3ca1b8a4dd52ecd29b1ba1",
        "_cell_guid": "7754d7d0-0e8f-4c9d-aaa2-5da119cee4b7",
        "collapsed": true,
        "trusted": false
      },
      "cell_type": "code",
      "source": "t = (1, 2, 3)",
      "execution_count": null,
      "outputs": []
    },
    {
      "metadata": {
        "_uuid": "4cc5ac2ec5dd1b67384e3ea83ca86883822399af",
        "_cell_guid": "07c660cb-9890-4863-98b8-b5741c650aad"
      },
      "cell_type": "markdown",
      "source": "They can also be defined without any brackets at all:"
    },
    {
      "metadata": {
        "_uuid": "78b7ef43586114521642fc1e7cc7cd8e7e3b96ce",
        "_cell_guid": "090162c6-20ba-48fc-a16e-f8ef57d44e28",
        "collapsed": true,
        "trusted": false
      },
      "cell_type": "code",
      "source": "t = 1, 2, 3\nprint(t)",
      "execution_count": null,
      "outputs": []
    },
    {
      "metadata": {
        "_uuid": "3769b6b318bd8aaa933ba5ae0f4576d506dfd0da",
        "_cell_guid": "0c8ac3df-a8f3-4dc9-bcfc-a4641a9180e1"
      },
      "cell_type": "markdown",
      "source": "Like the lists discussed before, tuples have a length, and individual elements can be extracted using square-bracket indexing:"
    },
    {
      "metadata": {
        "_uuid": "faf205ba50175fc9eb46a60138bb22fb77a77d3e",
        "_cell_guid": "d9c021fc-4532-4981-94f9-ba490992a11b",
        "collapsed": true,
        "trusted": false
      },
      "cell_type": "code",
      "source": "len(t)",
      "execution_count": null,
      "outputs": []
    },
    {
      "metadata": {
        "_uuid": "6e9eaf1d4a0f06156d964eee7f3fb62f44b473ee",
        "_cell_guid": "62266859-b839-4b63-a57b-2da886286533",
        "collapsed": true,
        "trusted": false
      },
      "cell_type": "code",
      "source": "t[0]",
      "execution_count": null,
      "outputs": []
    },
    {
      "metadata": {
        "_uuid": "b514eea5f8fc628d9eb177a9ae5c27d0f81fe627",
        "_cell_guid": "7d659bf4-82b4-487f-8b30-983dc8126ebf"
      },
      "cell_type": "markdown",
      "source": "The main distinguishing feature of tuples is that they are *immutable*: this means that once they are created, their size and contents cannot be changed:"
    },
    {
      "metadata": {
        "_uuid": "6934a1cb49f38e5843d501bc550c9fb2ada89daf",
        "_cell_guid": "2b9e5c1d-b7c1-4082-8d07-f2338d759cd0",
        "collapsed": true,
        "trusted": false
      },
      "cell_type": "code",
      "source": "t[1] = 4",
      "execution_count": null,
      "outputs": []
    },
    {
      "metadata": {
        "_uuid": "443e7535ec0792b72aff8935a10f51e00f74a283",
        "_cell_guid": "b0a7e697-233c-415b-ab1d-b52ae9c15793",
        "collapsed": true,
        "trusted": false
      },
      "cell_type": "code",
      "source": "t.append(4)",
      "execution_count": null,
      "outputs": []
    },
    {
      "metadata": {
        "_uuid": "15fa4434896c2060fcdb4a9b300a113d936a2e84",
        "_cell_guid": "40a4cc17-d703-4ce1-bd6e-94d646117bda"
      },
      "cell_type": "markdown",
      "source": "Tuples are often used in a Python program; a particularly common case is in functions that have multiple return values.\nFor example, the ``as_integer_ratio()`` method of floating-point objects returns a numerator and a denominator; this dual return value comes in the form of a tuple:"
    },
    {
      "metadata": {
        "_uuid": "f720e68218095f550992bf30371455fd2706413f",
        "_cell_guid": "2e4e26db-c014-4ece-a86a-4e0da9155265",
        "collapsed": true,
        "trusted": false
      },
      "cell_type": "code",
      "source": "x = 0.125\nx.as_integer_ratio()",
      "execution_count": null,
      "outputs": []
    },
    {
      "metadata": {
        "_uuid": "e4fd7c592478c30bdfbef251432043ac7497b042",
        "_cell_guid": "05f2062f-d18a-422e-8131-98446832abfd"
      },
      "cell_type": "markdown",
      "source": "These multiple return values can be individually assigned as follows:"
    },
    {
      "metadata": {
        "_uuid": "99def4b9a694bf8eff7224bbf64bcd2ab7e822a9",
        "_cell_guid": "67bb99ec-e2b4-482f-aaad-c8ba172a4437",
        "collapsed": true,
        "trusted": false
      },
      "cell_type": "code",
      "source": "numerator, denominator = x.as_integer_ratio()\nprint(numerator / denominator)",
      "execution_count": null,
      "outputs": []
    },
    {
      "metadata": {
        "_uuid": "5ed07826683b09e1cf20ab05576095167eb3d9dd",
        "_cell_guid": "20a6aa25-b615-466b-b7ca-9f6c9f8e8cd7"
      },
      "cell_type": "markdown",
      "source": "The indexing and slicing logic covered earlier for lists works for tuples as well, along with a host of other methods.\nRefer to the online [Python documentation](https://docs.python.org/3/tutorial/datastructures.html) for a more complete list of these."
    },
    {
      "metadata": {
        "_uuid": "40e00597f23cf3f774c786a5ae3f4bf08186b48f",
        "_cell_guid": "6d6dd84a-e572-4664-aeb2-2bc4cb81d803"
      },
      "cell_type": "markdown",
      "source": "## Searching lists and tuples\n\nSuppose we have a list representing the people who attended  a particular party."
    },
    {
      "metadata": {
        "_uuid": "5213da446d5183ac0ae15ca9a7cc9bdfc5e64917",
        "_cell_guid": "24555f4d-8c09-4674-bf2c-fa4721b68725",
        "trusted": false,
        "collapsed": true
      },
      "cell_type": "code",
      "source": "party_attendees = ['Adela', 'Fleda', 'Owen', 'May', 'Mona', 'Gilbert', 'Ford']",
      "execution_count": null,
      "outputs": []
    },
    {
      "metadata": {
        "_uuid": "5e477dcdc7e9cfbd22d09b6c1da0c11ddd5c36a6",
        "_cell_guid": "7749ce0d-b545-4e87-b79b-d99c39609227"
      },
      "cell_type": "markdown",
      "source": "How would we check whether a particular person was at the party?\n\nPython has a useful boolean operator `in` which tells us whether a sequence contains a particular element."
    },
    {
      "metadata": {
        "_uuid": "4832c11d0a63c03f88932f9fc13cb2c8395e0420",
        "_cell_guid": "40329eb7-62a4-487c-80d2-bd7fca071c4b",
        "trusted": false,
        "collapsed": true
      },
      "cell_type": "code",
      "source": "mona_attended = \"Mona\" in party_attendees\nprint(\"Did Mona attend the party?\", mona_attended)\nmrs_briss_attended = \"Mrs. Briss\" in party_attendees\nprint(\"Did Mrs. Briss attend the party?\", mrs_briss_attended)",
      "execution_count": null,
      "outputs": []
    },
    {
      "metadata": {
        "_uuid": "03f13484e26adbf4ac9ab53913afc179891028fd",
        "_cell_guid": "0b4d1165-3e4c-4b56-a070-b4a23bb60c89"
      },
      "cell_type": "markdown",
      "source": "Suppose the order of the list corresponds to the order in which guests arrived. How would we determine when Mona arrived, relative to the other guests?\n\nLists (and tuples) have a method `index()` which returns the index of a particular value in the list. (If it occurs multiple times, the index of the first occurrence is returned.)"
    },
    {
      "metadata": {
        "_uuid": "4d7bf6256836992f3d37ad6478a6b8bb46988de9",
        "_cell_guid": "0e16b554-efb8-4723-9d3a-6d5eac1c288f",
        "trusted": false,
        "collapsed": true
      },
      "cell_type": "code",
      "source": "party_attendees.index(\"Mona\")",
      "execution_count": null,
      "outputs": []
    },
    {
      "metadata": {
        "_uuid": "db2bbcd30d9dfb2b702cc0a1d4d105ce0606b1e8",
        "_cell_guid": "ff16675b-a178-4263-8b9d-d39a65bc185a"
      },
      "cell_type": "markdown",
      "source": "So Mona was the fourth guest to arrive? There's a gotcha here - remember that Python indices start from 0."
    },
    {
      "metadata": {
        "_uuid": "f81bef45f6c437d1a3c1c468b73f7acbb12815bc",
        "_cell_guid": "ddac873d-2f9a-4789-98b0-bb6745dcf615",
        "trusted": false,
        "collapsed": true
      },
      "cell_type": "code",
      "source": "party_attendees.index(\"Adela\")",
      "execution_count": null,
      "outputs": []
    },
    {
      "metadata": {
        "_uuid": "2ccadb114ed8491590d1227a7ba494715dec6e11",
        "_cell_guid": "a2c0955d-4e9b-4d81-b7e6-feb11de2275c"
      },
      "cell_type": "markdown",
      "source": "Adela is the first guest, and has index 0. Mona, having index 4, is the *fifth* guest."
    }
  ],
  "metadata": {
    "kernelspec": {
      "display_name": "Python 3",
      "language": "python",
      "name": "python3"
    },
    "anaconda-cloud": {},
    "language_info": {
      "name": "python",
      "version": "3.6.5",
      "mimetype": "text/x-python",
      "codemirror_mode": {
        "name": "ipython",
        "version": 3
      },
      "pygments_lexer": "ipython3",
      "nbconvert_exporter": "python",
      "file_extension": ".py"
    }
  },
  "nbformat": 4,
  "nbformat_minor": 1
}