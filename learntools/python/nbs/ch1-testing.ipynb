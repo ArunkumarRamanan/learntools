{
 "cells": [
  {
   "cell_type": "code",
   "execution_count": 1,
   "metadata": {
    "_cell_guid": "b1c2657c-d3b1-464f-b16a-ea468a330938",
    "_kg_hide-input": true,
    "_kg_hide-output": true,
    "_uuid": "37cd48c5c945560eb3d41b72c33af867646b028e"
   },
   "outputs": [],
   "source": [
    "# This exists to test the learntools implementation of the exercise defined in ex1.py\n",
    "from learntools.core import binder\n",
    "binder.bind(globals())\n",
    "from learntools.python.ex1 import *"
   ]
  },
  {
   "cell_type": "markdown",
   "metadata": {
    "_uuid": "4df66964d02a91212b8b9b84e1be515cc521b841"
   },
   "source": [
    "# Exercises"
   ]
  },
  {
   "cell_type": "markdown",
   "metadata": {
    "_uuid": "fdb28b9c76091a2371c21cb0c4b5f9fc994d67a9"
   },
   "source": [
    "Welcome to your first set of Python coding problems! Each day's tutorial will be accompanied with a handful of problems so you can practice what you just learned. We've also provided code you can use to check your answers, get a hint, or peek at the solution. \n",
    "\n",
    "## 0.\n",
    "\n",
    "<!-- Introduction to check() / hint() / solution() ? -->\n",
    "\n",
    "*This question is intended as an introduction to the format we'll be using for questions throughout the Python challenge.*\n",
    "\n",
    "**What is your favorite color? **\n",
    "\n",
    "To complete this question, you must create a variable called `color` in the cell below with an appropriate value. The function call `q0.check()` (which we've already provided in the cell below) will check your answer. If you run the cell below (by pressing the ► to the left of the cell) without changing its contents, `q0.check()` will recognize that you haven't attempted the problem yet, and remind you what you need to do. Try that now."
   ]
  },
  {
   "cell_type": "code",
   "execution_count": 2,
   "metadata": {
    "_uuid": "299c2f59e8cf69f4dd33599bd5bed76719850887"
   },
   "outputs": [
    {
     "data": {
      "text/markdown": [
       "<span style=\"color:#ccaa33\">Check:</span> When you've updated the starter code, `check()` will tell you whether your code is correct. Remember, you must create the following variable: `color`"
      ],
      "text/plain": [
       "Check: When you've updated the starter code, `check()` will tell you whether your code is correct. Remember, you must create the following variable: `color`"
      ]
     },
     "metadata": {},
     "output_type": "display_data"
    }
   ],
   "source": [
    "# create a variable called color with an appropriate value on the line below\n",
    "\n",
    "q0.check()"
   ]
  },
  {
   "cell_type": "code",
   "execution_count": 3,
   "metadata": {},
   "outputs": [
    {
     "data": {
      "text/markdown": [
       "<span style=\"color:#33cc33\">Correct:</span> What?! You got it right without needing a hint or anything? Drats. Well hey, you should still continue to the next step to get some practice asking for a hint and checking solutions. (Even though you obviously don't need any help here.)"
      ],
      "text/plain": [
       "Correct: What?! You got it right without needing a hint or anything? Drats. Well hey, you should still continue to the next step to get some practice asking for a hint and checking solutions. (Even though you obviously don't need any help here.)"
      ]
     },
     "metadata": {},
     "output_type": "display_data"
    }
   ],
   "source": [
    "# create a variable called color with an appropriate value on the line below\n",
    "color = 'blue'\n",
    "q0.check()"
   ]
  },
  {
   "cell_type": "markdown",
   "metadata": {
    "_uuid": "cc2da0462c4513ebde744a9cc86a7098506fe5c6"
   },
   "source": [
    "Now try editing the cell below to solve the problem, creating a variable `color` on the second line of the cell. Run the cell to check your answer."
   ]
  },
  {
   "cell_type": "code",
   "execution_count": 4,
   "metadata": {
    "_uuid": "1d5c7d516e9547579a4b8b264d7ec80aa2fd6926"
   },
   "outputs": [
    {
     "data": {
      "text/markdown": [
       "<span style=\"color:#cc3333\">Incorrect:</span> purple is not your favorite color! Well, maybe it is, but we're writing the rules. The point of this question is to force you to get some practice asking for a hint. Go ahead and uncomment the call to `q0.hint()` in the code cell below, for a hint at what your favorite color *really* is."
      ],
      "text/plain": [
       "Incorrect: purple is not your favorite color! Well, maybe it is, but we're writing the rules. The point of this question is to force you to get some practice asking for a hint. Go ahead and uncomment the call to `q0.hint()` in the code cell below, for a hint at what your favorite color *really* is."
      ]
     },
     "metadata": {},
     "output_type": "display_data"
    }
   ],
   "source": [
    "# create a variable called color with an appropriate value on the line below\n",
    "color = 'purple'\n",
    "q0.check()"
   ]
  },
  {
   "cell_type": "markdown",
   "metadata": {
    "_uuid": "88758ba6d5cf5e8a90e738b895eece95a6f6a598"
   },
   "source": [
    "Didn't get the right answer? How do you not even know your own favorite color?!\n",
    "\n",
    "Uncomment the below cell (by deleting the `#`) then run it to get a hint.  If you're still stuck, you can uncomment the second cell below to get the full answer."
   ]
  },
  {
   "cell_type": "code",
   "execution_count": 5,
   "metadata": {
    "_uuid": "8b38048eeff312c5a979f6aee58ac30f1f86bf9c"
   },
   "outputs": [
    {
     "data": {
      "text/markdown": [
       "<span style=\"color:#3366cc\">Hint:</span> Your favorite color rhymes with *glue*."
      ],
      "text/plain": [
       "Hint: Your favorite color rhymes with *glue*."
      ]
     },
     "metadata": {},
     "output_type": "display_data"
    }
   ],
   "source": [
    "q0.hint()"
   ]
  },
  {
   "cell_type": "code",
   "execution_count": 6,
   "metadata": {
    "_uuid": "d76f968d6805facb239838f454426769b770f66e"
   },
   "outputs": [
    {
     "data": {
      "text/markdown": [
       "<span style=\"color:#33cc99\">Solution:</span> \n",
       "```python\n",
       "color = \"blue\"\n",
       "```"
      ],
      "text/plain": [
       "Solution: \n",
       "```python\n",
       "color = \"blue\"\n",
       "```"
      ]
     },
     "metadata": {},
     "output_type": "display_data"
    }
   ],
   "source": [
    "q0.solution()"
   ]
  },
  {
   "cell_type": "markdown",
   "metadata": {
    "_uuid": "d5285978dcebae8efd2c31b00cb45ea3d3ae9247"
   },
   "source": [
    "All the questions for this challenge will have this kind of \"API\". The only thing that will change are the questions numbers. For the next question, you'll call `q1.check()`, `q1.hint()`, `q1.solution()`, for question 5, you'll call `q5.check()`, and so on."
   ]
  },
  {
   "cell_type": "markdown",
   "metadata": {
    "_uuid": "2b8c86c67bcf9d2eda0d80d2ddd4bfa176b7cec2"
   },
   "source": [
    "\n",
    "\n",
    "## 1.\n",
    "\n",
    "Complete the code below."
   ]
  },
  {
   "cell_type": "code",
   "execution_count": 7,
   "metadata": {
    "_uuid": "ffbe0797b41d56b94a5ed2c75623b111202951d2"
   },
   "outputs": [
    {
     "data": {
      "text/markdown": [
       "<span style=\"color:#ccaa33\">Check:</span> When you've updated the starter code, `check()` will tell you whether your code is correct. Remember, you must create the following variables: `area`, `radius`"
      ],
      "text/plain": [
       "Check: When you've updated the starter code, `check()` will tell you whether your code is correct. Remember, you must create the following variables: `area`, `radius`"
      ]
     },
     "metadata": {},
     "output_type": "display_data"
    }
   ],
   "source": [
    "pi = 3.14159 # approximate\n",
    "diameter = 3\n",
    "# Create a variable called 'radius' equal to half the diameter\n",
    "\n",
    "# Create a variable called 'area', using the formula for the area of\n",
    "# a circle: pi times the radius squared\n",
    "q1.check()"
   ]
  },
  {
   "cell_type": "code",
   "execution_count": 8,
   "metadata": {},
   "outputs": [
    {
     "data": {
      "text/markdown": [
       "<span style=\"color:#cc3333\">Incorrect:</span> You still need to define the following variables: `area`"
      ],
      "text/plain": [
       "Incorrect: You still need to define the following variables: `area`"
      ]
     },
     "metadata": {},
     "output_type": "display_data"
    }
   ],
   "source": [
    "radius = 12\n",
    "q1.check()"
   ]
  },
  {
   "cell_type": "code",
   "execution_count": 9,
   "metadata": {},
   "outputs": [
    {
     "data": {
      "text/markdown": [
       "<span style=\"color:#cc3333\">Incorrect:</span> Incorrect value for variable `radius`: `12`"
      ],
      "text/plain": [
       "Incorrect: Incorrect value for variable `radius`: `12`"
      ]
     },
     "metadata": {},
     "output_type": "display_data"
    }
   ],
   "source": [
    "area = 10\n",
    "q1.check()"
   ]
  },
  {
   "cell_type": "code",
   "execution_count": 10,
   "metadata": {},
   "outputs": [
    {
     "data": {
      "text/markdown": [
       "<span style=\"color:#3366cc\">Hint:</span> The syntax to raise a to the b'th power is `a ** b`"
      ],
      "text/plain": [
       "Hint: The syntax to raise a to the b'th power is `a ** b`"
      ]
     },
     "metadata": {},
     "output_type": "display_data"
    }
   ],
   "source": [
    "q1.hint()"
   ]
  },
  {
   "cell_type": "code",
   "execution_count": 11,
   "metadata": {},
   "outputs": [
    {
     "data": {
      "text/markdown": [
       "<span style=\"color:#33cc99\">Solution:</span> \n",
       "```python\n",
       "radius = diameter / 2\n",
       "area = pi * radius ** 2\n",
       "```"
      ],
      "text/plain": [
       "Solution: \n",
       "```python\n",
       "radius = diameter / 2\n",
       "area = pi * radius ** 2\n",
       "```"
      ]
     },
     "metadata": {},
     "output_type": "display_data"
    }
   ],
   "source": [
    "q1.solution()"
   ]
  },
  {
   "cell_type": "markdown",
   "metadata": {
    "_cell_guid": "6c3d3c5f-5d5f-4195-9194-59bdeaf86892",
    "_uuid": "989f50f61ac29d0973f5a2eab227d8bb684fb16c"
   },
   "source": [
    "## 2.\n",
    "\n",
    "Add code to the following cell to swap variables `a` and `b` (so that `a` refers to the object previously referred to by `b` and vice versa).\n",
    "\n",
    "(Note: Your code should be generic enough that it would work for any pair of variables `a` and `b`, regardless of the particular values they've been assigned.)"
   ]
  },
  {
   "cell_type": "code",
   "execution_count": 12,
   "metadata": {
    "_cell_guid": "d3dba630-d9ff-42ae-87fa-f11f286b723b",
    "_uuid": "8d2bce6ae522facd687131b51e29cde5d9ba17ba"
   },
   "outputs": [
    {
     "data": {
      "text/markdown": [
       "<span style=\"color:#cc3333\">Incorrect:</span> `a` and `b` still have their original values."
      ],
      "text/plain": [
       "Incorrect: `a` and `b` still have their original values."
      ]
     },
     "metadata": {},
     "output_type": "display_data"
    }
   ],
   "source": [
    "########### Setup code - don't touch this part ######################\n",
    "# If you're curious, these are examples of lists. We'll talk about \n",
    "# them in depth a few lessons from now. For now, just know that they're\n",
    "# yet another type of Python object, like int or float.\n",
    "a = [1, 2, 3]\n",
    "b = [3, 2, 1]\n",
    "q2.store_original_ids()\n",
    "######################################################################\n",
    "\n",
    "# Your code goes here. Swap the values to which a and b refer.\n",
    "# If you get stuck, you can always uncomment one or both of the lines in\n",
    "# the next cell for a hint, or to peek at the solution.\n",
    "\n",
    "######################################################################\n",
    "q2.check()"
   ]
  },
  {
   "cell_type": "code",
   "execution_count": 13,
   "metadata": {},
   "outputs": [
    {
     "data": {
      "text/markdown": [
       "<span style=\"color:#cc3333\">Incorrect:</span> `b` and `a` are the same! Both have value `[3, 2, 1]`"
      ],
      "text/plain": [
       "Incorrect: `b` and `a` are the same! Both have value `[3, 2, 1]`"
      ]
     },
     "metadata": {},
     "output_type": "display_data"
    }
   ],
   "source": [
    "a = [1, 2, 3]\n",
    "b = [3, 2, 1]\n",
    "q2.store_original_ids()\n",
    "######################################################################\n",
    "a = b\n",
    "b = a\n",
    "######################################################################\n",
    "q2.check()"
   ]
  },
  {
   "cell_type": "code",
   "execution_count": 14,
   "metadata": {},
   "outputs": [
    {
     "data": {
      "text/markdown": [
       "<span style=\"color:#cc3333\">Incorrect:</span> Hm, did you write something like...\n",
       "```python\n",
       "a = [3, 2, 1]\n",
       "b = [1, 2, 3]```\n",
       "?\n",
       "That's not an unreasonable think to try, but there are two problems:\n",
       "1. You're relying on knowing the values of `a` and `b` ahead of time. What if you wanted to swap two variables whose values weren't known to you ahead of time?\n",
       "2. Your code actually results in `a` referring to a *new* object (whose value is the same as `b`'s previous value), and similarly for `b`. To see why this is, consider that the code...\n",
       "```python\n",
       "a = [1, 2, 3]\n",
       "b = [1, 2, 3]```\n",
       "Is actually *different* from:\n",
       "```python\n",
       "a = [1, 2, 3]\n",
       "b = a```\n",
       "In the second case, `a` and `b` refer to the same object. In the first case, `a` and `b` refer to different objects which happen to be equivalent. This may seem like a merely philosophical difference, but it matters when we start *modifying* objects. In the second scenario, if we run `a.append(4)`, then `a` and `b` would both have the value `[1, 2, 3, 4]`. If we run `a.append(4)` in the first scenario, `a` refers to `[1, 2, 3, 4]`, but `b` remains `[1, 2, 3]`. (We'll talk more about lists and mutability in a later lesson.)"
      ],
      "text/plain": [
       "Incorrect: Hm, did you write something like...\n",
       "```python\n",
       "a = [3, 2, 1]\n",
       "b = [1, 2, 3]```\n",
       "?\n",
       "That's not an unreasonable think to try, but there are two problems:\n",
       "1. You're relying on knowing the values of `a` and `b` ahead of time. What if you wanted to swap two variables whose values weren't known to you ahead of time?\n",
       "2. Your code actually results in `a` referring to a *new* object (whose value is the same as `b`'s previous value), and similarly for `b`. To see why this is, consider that the code...\n",
       "```python\n",
       "a = [1, 2, 3]\n",
       "b = [1, 2, 3]```\n",
       "Is actually *different* from:\n",
       "```python\n",
       "a = [1, 2, 3]\n",
       "b = a```\n",
       "In the second case, `a` and `b` refer to the same object. In the first case, `a` and `b` refer to different objects which happen to be equivalent. This may seem like a merely philosophical difference, but it matters when we start *modifying* objects. In the second scenario, if we run `a.append(4)`, then `a` and `b` would both have the value `[1, 2, 3, 4]`. If we run `a.append(4)` in the first scenario, `a` refers to `[1, 2, 3, 4]`, but `b` remains `[1, 2, 3]`. (We'll talk more about lists and mutability in a later lesson.)"
      ]
     },
     "metadata": {},
     "output_type": "display_data"
    }
   ],
   "source": [
    "a = [1, 2, 3]\n",
    "b = [3, 2, 1]\n",
    "q2.store_original_ids()\n",
    "######################################################################\n",
    "a = [3, 2, 1]\n",
    "b = [1, 2, 3]\n",
    "######################################################################\n",
    "q2.check()"
   ]
  },
  {
   "cell_type": "code",
   "execution_count": 15,
   "metadata": {},
   "outputs": [
    {
     "data": {
      "text/markdown": [
       "<span style=\"color:#33cc33\">Correct:</span> \n",
       "\n",
       "The most straightforward solution is to use a third variable to temporarily store one of the old values. e.g.:\n",
       "\n",
       "    tmp = a\n",
       "    a = b\n",
       "    b = tmp\n",
       "\n",
       "If you've read lots of Python code, you might have seen the following trick to swap two variables in one line:\n",
       "\n",
       "    a, b = b, a\n",
       "\n",
       "We'll demystify this bit of Python magic later when we talk about *tuples*."
      ],
      "text/plain": [
       "Correct: \n",
       "\n",
       "The most straightforward solution is to use a third variable to temporarily store one of the old values. e.g.:\n",
       "\n",
       "    tmp = a\n",
       "    a = b\n",
       "    b = tmp\n",
       "\n",
       "If you've read lots of Python code, you might have seen the following trick to swap two variables in one line:\n",
       "\n",
       "    a, b = b, a\n",
       "\n",
       "We'll demystify this bit of Python magic later when we talk about *tuples*."
      ]
     },
     "metadata": {},
     "output_type": "display_data"
    }
   ],
   "source": [
    "a = [1, 2, 3]\n",
    "b = [3, 2, 1]\n",
    "q2.store_original_ids()\n",
    "######################################################################\n",
    "a,b = b,a\n",
    "######################################################################\n",
    "q2.check()"
   ]
  },
  {
   "cell_type": "code",
   "execution_count": 16,
   "metadata": {
    "_cell_guid": "748609cc-c8be-435e-a455-3fee4df28542",
    "_uuid": "acc810ae52cc82202a952149ff8db7c076b1dcb1"
   },
   "outputs": [
    {
     "data": {
      "text/markdown": [
       "<span style=\"color:#3366cc\">Hint:</span> Try using a third variable."
      ],
      "text/plain": [
       "Hint: Try using a third variable."
      ]
     },
     "metadata": {},
     "output_type": "display_data"
    }
   ],
   "source": [
    "q2.hint()"
   ]
  },
  {
   "cell_type": "code",
   "execution_count": 17,
   "metadata": {},
   "outputs": [
    {
     "data": {
      "text/markdown": [
       "<span style=\"color:#33cc99\">Solution:</span> The most straightforward solution is to use a third variable to temporarily store one of the old values. e.g.:\n",
       "\n",
       "    tmp = a\n",
       "    a = b\n",
       "    b = tmp\n",
       "\n",
       "If you've read lots of Python code, you might have seen the following trick to swap two variables in one line:\n",
       "\n",
       "    a, b = b, a\n",
       "\n",
       "We'll demystify this bit of Python magic later when we talk about *tuples*."
      ],
      "text/plain": [
       "Solution: The most straightforward solution is to use a third variable to temporarily store one of the old values. e.g.:\n",
       "\n",
       "    tmp = a\n",
       "    a = b\n",
       "    b = tmp\n",
       "\n",
       "If you've read lots of Python code, you might have seen the following trick to swap two variables in one line:\n",
       "\n",
       "    a, b = b, a\n",
       "\n",
       "We'll demystify this bit of Python magic later when we talk about *tuples*."
      ]
     },
     "metadata": {},
     "output_type": "display_data"
    }
   ],
   "source": [
    "q2.solution()"
   ]
  },
  {
   "cell_type": "markdown",
   "metadata": {
    "_cell_guid": "be352d01-fb30-468a-b74f-c95991b9f382",
    "_uuid": "138eb172dcb7f05029de8b2821c266a7672ada67"
   },
   "source": [
    "## 3.\n",
    "\n",
    "a) Add parentheses to the following expression so that it evaluates to 1."
   ]
  },
  {
   "cell_type": "code",
   "execution_count": 18,
   "metadata": {
    "_cell_guid": "2a04eac0-8b5f-4dec-b7fe-dc6057f99998",
    "_uuid": "cc973d8e93e54271fbf7187bf79a41a75f9cdb14"
   },
   "outputs": [
    {
     "data": {
      "text/plain": [
       "4"
      ]
     },
     "execution_count": 18,
     "metadata": {},
     "output_type": "execute_result"
    }
   ],
   "source": [
    "5 - 3 // 2"
   ]
  },
  {
   "cell_type": "code",
   "execution_count": 19,
   "metadata": {},
   "outputs": [
    {
     "data": {
      "text/markdown": [
       "<span style=\"color:#3366cc\">Hint:</span> Following its default \"BEDMAS\"-like rules for order of operations, Python will first divide 3 by 2, then subtract the result from 5. You need to add parentheses to force it to perform the subtraction first."
      ],
      "text/plain": [
       "Hint: Following its default \"BEDMAS\"-like rules for order of operations, Python will first divide 3 by 2, then subtract the result from 5. You need to add parentheses to force it to perform the subtraction first."
      ]
     },
     "metadata": {},
     "output_type": "display_data"
    },
    {
     "data": {
      "text/markdown": [
       "<span style=\"color:#33cc99\">Solution:</span> \n",
       "```python\n",
       "(5 - 3) // 2\n",
       "```"
      ],
      "text/plain": [
       "Solution: \n",
       "```python\n",
       "(5 - 3) // 2\n",
       "```"
      ]
     },
     "metadata": {},
     "output_type": "display_data"
    }
   ],
   "source": [
    "q3.a.hint()\n",
    "q3.a.solution()"
   ]
  },
  {
   "cell_type": "markdown",
   "metadata": {
    "_cell_guid": "8ef282f4-3eac-4fe8-b56c-fca739158016",
    "_uuid": "374c21cb978ef371fbe22925f4dc165f2ea07c5e"
   },
   "source": [
    "b) **(tricky)** Add parentheses to the following expression so that it evaluates to 0"
   ]
  },
  {
   "cell_type": "code",
   "execution_count": 20,
   "metadata": {
    "_cell_guid": "f45f168b-3abb-407e-969c-770f4abde355",
    "_uuid": "a1ab38e5f577c6bbf6f591ab9c53e55cb316fce3"
   },
   "outputs": [
    {
     "data": {
      "text/plain": [
       "2"
      ]
     },
     "execution_count": 20,
     "metadata": {},
     "output_type": "execute_result"
    }
   ],
   "source": [
    "8 - 3 * 2 - 1 + 1"
   ]
  },
  {
   "cell_type": "code",
   "execution_count": 21,
   "metadata": {},
   "outputs": [
    {
     "data": {
      "text/markdown": [
       "<span style=\"color:#3366cc\">Hint:</span> You may need to use several pairs of parentheses."
      ],
      "text/plain": [
       "Hint: You may need to use several pairs of parentheses."
      ]
     },
     "metadata": {},
     "output_type": "display_data"
    },
    {
     "data": {
      "text/markdown": [
       "<span style=\"color:#33cc99\">Solution:</span> `(8 - 3) * (2 - (1 + 1))` is one solution. There may be others."
      ],
      "text/plain": [
       "Solution: `(8 - 3) * (2 - (1 + 1))` is one solution. There may be others."
      ]
     },
     "metadata": {},
     "output_type": "display_data"
    }
   ],
   "source": [
    "q3.b.hint()\n",
    "q3.b.solution()"
   ]
  },
  {
   "cell_type": "markdown",
   "metadata": {
    "_cell_guid": "f7d5eb9f-fd44-4338-8676-7722968670a2",
    "_uuid": "50a488d918d52adfd6700fdfb40b0edc5a59e667"
   },
   "source": [
    "## 4. \n",
    "Alice, Bob and Carol have agreed to pool their Halloween candy and split it evenly among themselves.\n",
    "For the sake of their friendship, any candies left over will be smashed. For example, if they collectively\n",
    "bring home 91 candies, they'll take 30 each and smash 1.\n",
    "\n",
    "Write an arithmetic expression below to calculate how many candies they must smash for a given haul."
   ]
  },
  {
   "cell_type": "code",
   "execution_count": 22,
   "metadata": {
    "_cell_guid": "77a74495-7172-41a1-9805-4794847a4d56",
    "_uuid": "1acd886a2a99592e92af7c2c286a897835369c1d"
   },
   "outputs": [
    {
     "data": {
      "text/markdown": [
       "<span style=\"color:#ccaa33\">Check:</span> When you've updated the starter code, `check()` will tell you whether your code is correct. You need to update the code that creates variable `to_smash`"
      ],
      "text/plain": [
       "Check: When you've updated the starter code, `check()` will tell you whether your code is correct. You need to update the code that creates variable `to_smash`"
      ]
     },
     "metadata": {},
     "output_type": "display_data"
    }
   ],
   "source": [
    "# Variables representing the number of candies collected by alice, bob, and carol\n",
    "alice_candies = 121\n",
    "bob_candies = 77\n",
    "carol_candies = 109\n",
    "\n",
    "# Your code goes here! Replace the right-hand side of this assignment with an expression\n",
    "# involving alice_candies, bob_candies, and carol_candies\n",
    "to_smash = -1\n",
    "\n",
    "q4.check()"
   ]
  },
  {
   "cell_type": "code",
   "execution_count": 23,
   "metadata": {
    "_cell_guid": "8ece24c0-3875-4993-a118-56c68ad69350",
    "_uuid": "500fd677a636afc4f4df37c7123e928a1af895f7"
   },
   "outputs": [
    {
     "data": {
      "text/markdown": [
       "<span style=\"color:#3366cc\">Hint:</span> You'll probably want to use the modulo operator, `%`."
      ],
      "text/plain": [
       "Hint: You'll probably want to use the modulo operator, `%`."
      ]
     },
     "metadata": {},
     "output_type": "display_data"
    },
    {
     "data": {
      "text/markdown": [
       "<span style=\"color:#33cc99\">Solution:</span> \n",
       "```python\n",
       "(alice_candies + bob_candies + carol_candies) % 3\n",
       "```"
      ],
      "text/plain": [
       "Solution: \n",
       "```python\n",
       "(alice_candies + bob_candies + carol_candies) % 3\n",
       "```"
      ]
     },
     "metadata": {},
     "output_type": "display_data"
    },
    {
     "data": {
      "text/markdown": [
       "<span style=\"color:#3366cc\">Hint:</span> `j % k` is the remainder after dividing `j` by `k`"
      ],
      "text/plain": [
       "Hint: `j % k` is the remainder after dividing `j` by `k`"
      ]
     },
     "metadata": {},
     "output_type": "display_data"
    }
   ],
   "source": [
    "q4.hint()\n",
    "q4.solution()\n",
    "q4.hint(2)"
   ]
  },
  {
   "cell_type": "markdown",
   "metadata": {
    "_cell_guid": "5803e28d-d8e3-428e-9a43-965862e5a60e",
    "_uuid": "6f483c01dc7199ec05b81b57f31daebf420c301d"
   },
   "source": [
    "## 5. (tricky)\n",
    "\n",
    "The code cell below may look like ascii art, but it's actually a valid Python expression.\n",
    "Can you guess its value? Once you've made a prediction, uncomment and run the expression."
   ]
  },
  {
   "cell_type": "code",
   "execution_count": null,
   "metadata": {},
   "outputs": [],
   "source": []
  },
  {
   "cell_type": "code",
   "execution_count": 24,
   "metadata": {
    "_cell_guid": "98ebeef3-a24b-433c-9dc5-947c56c92eaf",
    "_uuid": "517c0f6be7174d3341648beb39c8689e96971254"
   },
   "outputs": [],
   "source": [
    "#7------3"
   ]
  },
  {
   "cell_type": "markdown",
   "metadata": {
    "_cell_guid": "61bc1763-d814-4a81-8dc0-ef05bd75ee85",
    "_uuid": "9c52cbf7be72f1ad979775c795aecedd40843834"
   },
   "source": [
    "What's going on here?\n",
    "\n",
    "Here's a test of your understanding: how will the value of the expression change as `-`s are added or removed from the middle? Fill in the variable `hundred_dashes` in the code cell below with the value of the above expression if we had used 99 `-` symbols between 7 and 3 ."
   ]
  },
  {
   "cell_type": "code",
   "execution_count": 25,
   "metadata": {},
   "outputs": [
    {
     "data": {
      "text/markdown": [
       "<span style=\"color:#ccaa33\">Check:</span> When you've updated the starter code, `check()` will tell you whether your code is correct. Remember, you must create the following variable: `ninety_nine_dashes`"
      ],
      "text/plain": [
       "Check: When you've updated the starter code, `check()` will tell you whether your code is correct. Remember, you must create the following variable: `ninety_nine_dashes`"
      ]
     },
     "metadata": {},
     "output_type": "display_data"
    }
   ],
   "source": [
    "#hundred_dashes = \n",
    "q5.check()"
   ]
  },
  {
   "cell_type": "code",
   "execution_count": 26,
   "metadata": {},
   "outputs": [
    {
     "data": {
      "text/markdown": [
       "<span style=\"color:#cc3333\">Incorrect:</span> Incorrect value for variable `ninety_nine_dashes`: `12`"
      ],
      "text/plain": [
       "Incorrect: Incorrect value for variable `ninety_nine_dashes`: `12`"
      ]
     },
     "metadata": {},
     "output_type": "display_data"
    }
   ],
   "source": [
    "ninety_nine_dashes = 12\n",
    "q5.check()"
   ]
  },
  {
   "cell_type": "code",
   "execution_count": 27,
   "metadata": {},
   "outputs": [
    {
     "data": {
      "text/markdown": [
       "<span style=\"color:#33cc33\">Correct:</span> \n",
       "\n",
       "The original expression's value is `10`. If we had used 99 `-`s, the expression's value would be 4. But why? Let's start with a simpler version...\n",
       "`7-3` is of course just 3 subtracted from 7: 4. The key is what happens when we add another `-`.\n",
       "\n",
       "`7--3` is `10`. To match how Python evaluates this expression, we would parenthesize it as `7-(-3)`. The first `-` is treated as a subtraction operator, but the second one is treated as *negation*. We're subtracting negative 3 (which is equivalent to adding 3). Subsequent `-`s are all treated as additional negations, so they cause the subtracted quantity to flip back and forth between 3 and negative 3. Therefore, when there are an odd number of `-`s, the expression equals 4. When there's an even number, the expression equals 10.\n"
      ],
      "text/plain": [
       "Correct: \n",
       "\n",
       "The original expression's value is `10`. If we had used 99 `-`s, the expression's value would be 4. But why? Let's start with a simpler version...\n",
       "`7-3` is of course just 3 subtracted from 7: 4. The key is what happens when we add another `-`.\n",
       "\n",
       "`7--3` is `10`. To match how Python evaluates this expression, we would parenthesize it as `7-(-3)`. The first `-` is treated as a subtraction operator, but the second one is treated as *negation*. We're subtracting negative 3 (which is equivalent to adding 3). Subsequent `-`s are all treated as additional negations, so they cause the subtracted quantity to flip back and forth between 3 and negative 3. Therefore, when there are an odd number of `-`s, the expression equals 4. When there's an even number, the expression equals 10."
      ]
     },
     "metadata": {},
     "output_type": "display_data"
    }
   ],
   "source": [
    "ninety_nine_dashes = 4\n",
    "q5.check()"
   ]
  },
  {
   "cell_type": "code",
   "execution_count": 28,
   "metadata": {
    "_cell_guid": "f1278f0b-e3a8-40ea-9923-f236bdf2e0a8",
    "_uuid": "c1f0ac631aa85a7c31602b813a4eac37bbc152a0"
   },
   "outputs": [
    {
     "data": {
      "text/markdown": [
       "<span style=\"color:#3366cc\">Hint:</span> What would the value of the expression be if there were exactly one `-`? What about two? Can you add parentheses to make it clearer?"
      ],
      "text/plain": [
       "Hint: What would the value of the expression be if there were exactly one `-`? What about two? Can you add parentheses to make it clearer?"
      ]
     },
     "metadata": {},
     "output_type": "display_data"
    }
   ],
   "source": [
    "q5.hint()"
   ]
  },
  {
   "cell_type": "code",
   "execution_count": 29,
   "metadata": {},
   "outputs": [
    {
     "data": {
      "text/markdown": [
       "<span style=\"color:#33cc99\">Solution:</span> The original expression's value is `10`. If we had used 99 `-`s, the expression's value would be 4. But why? Let's start with a simpler version...\n",
       "`7-3` is of course just 3 subtracted from 7: 4. The key is what happens when we add another `-`.\n",
       "\n",
       "`7--3` is `10`. To match how Python evaluates this expression, we would parenthesize it as `7-(-3)`. The first `-` is treated as a subtraction operator, but the second one is treated as *negation*. We're subtracting negative 3 (which is equivalent to adding 3). Subsequent `-`s are all treated as additional negations, so they cause the subtracted quantity to flip back and forth between 3 and negative 3. Therefore, when there are an odd number of `-`s, the expression equals 4. When there's an even number, the expression equals 10.\n"
      ],
      "text/plain": [
       "Solution: The original expression's value is `10`. If we had used 99 `-`s, the expression's value would be 4. But why? Let's start with a simpler version...\n",
       "`7-3` is of course just 3 subtracted from 7: 4. The key is what happens when we add another `-`.\n",
       "\n",
       "`7--3` is `10`. To match how Python evaluates this expression, we would parenthesize it as `7-(-3)`. The first `-` is treated as a subtraction operator, but the second one is treated as *negation*. We're subtracting negative 3 (which is equivalent to adding 3). Subsequent `-`s are all treated as additional negations, so they cause the subtracted quantity to flip back and forth between 3 and negative 3. Therefore, when there are an odd number of `-`s, the expression equals 4. When there's an even number, the expression equals 10."
      ]
     },
     "metadata": {},
     "output_type": "display_data"
    }
   ],
   "source": [
    "q5.solution()"
   ]
  },
  {
   "cell_type": "markdown",
   "metadata": {},
   "source": [
    "## 7. Quickdraw"
   ]
  },
  {
   "cell_type": "code",
   "execution_count": 30,
   "metadata": {},
   "outputs": [
    {
     "data": {
      "text/markdown": [
       "<span style=\"color:#3366cc\">Hint:</span> There are a few ways to solve this. Of the tools we've talked about so far, `//` and `%` (the integer division and modulo operators) and the `min` function may be useful."
      ],
      "text/plain": [
       "Hint: There are a few ways to solve this. Of the tools we've talked about so far, `//` and `%` (the integer division and modulo operators) and the `min` function may be useful."
      ]
     },
     "metadata": {},
     "output_type": "display_data"
    }
   ],
   "source": [
    "q6.hint()"
   ]
  },
  {
   "cell_type": "code",
   "execution_count": 31,
   "metadata": {},
   "outputs": [
    {
     "data": {
      "text/markdown": [
       "<span style=\"color:#33cc99\">Solution:</span> Here's one possible solution:\n",
       "```python\n",
       "rows = n // 8 + min(1, n % 8)\n",
       "cols = min(n, 8)\n",
       "height = rows * 2\n",
       "width = cols * 2\n",
       "```\n",
       "Calculating `rows` is the trickiest part. Here's another way of doing it:\n",
       "```python\n",
       "rows = (n + 7) // 8```\n",
       "We haven't shown the `math` module, but if you're familiar with the ceiling function, you might find this approach more intuitive:\n",
       "```python\n",
       "import math\n",
       "rows = math.ceil(n / 8)\n",
       "rows = int(rows) # ceil returns a float```\n"
      ],
      "text/plain": [
       "Solution: Here's one possible solution:\n",
       "```python\n",
       "rows = n // 8 + min(1, n % 8)\n",
       "cols = min(n, 8)\n",
       "height = rows * 2\n",
       "width = cols * 2\n",
       "```\n",
       "Calculating `rows` is the trickiest part. Here's another way of doing it:\n",
       "```python\n",
       "rows = (n + 7) // 8```\n",
       "We haven't shown the `math` module, but if you're familiar with the ceiling function, you might find this approach more intuitive:\n",
       "```python\n",
       "import math\n",
       "rows = math.ceil(n / 8)\n",
       "rows = int(rows) # ceil returns a float```"
      ]
     },
     "metadata": {},
     "output_type": "display_data"
    }
   ],
   "source": [
    "q6.solution()"
   ]
  },
  {
   "cell_type": "markdown",
   "metadata": {},
   "source": [
    "## 8. (tricky - for experienced Pythonistas)\n",
    "\n",
    "If you've read a lot of Python code, you may have seen the following syntax for assigning the same value to multiple variables:\n",
    "\n",
    "Suppose we want to create two variables, `a` and `b`, both initialized to 0. The obvious way to do this would be...\n",
    "\n",
    "```python\n",
    "a = 0\n",
    "b = 0```\n",
    "\n",
    "But if you've read a lot of Python code, you may be aware of the following nifty shortcut:\n",
    "\n",
    "```python\n",
    "a = b = 0\n",
    "```\n",
    "\n",
    "Can you think of a case where it makes a difference which syntax we use, when initializing two variables to the same value?"
   ]
  },
  {
   "cell_type": "code",
   "execution_count": 32,
   "metadata": {},
   "outputs": [
    {
     "data": {
      "text/markdown": [
       "<span style=\"color:#3366cc\">Hint:</span> You're unlikely to see any practical difference when the value we're initializing to is an int. But think about other Python types you're familiar with..."
      ],
      "text/plain": [
       "Hint: You're unlikely to see any practical difference when the value we're initializing to is an int. But think about other Python types you're familiar with..."
      ]
     },
     "metadata": {},
     "output_type": "display_data"
    }
   ],
   "source": [
    "q7.hint()"
   ]
  },
  {
   "cell_type": "code",
   "execution_count": 33,
   "metadata": {},
   "outputs": [
    {
     "data": {
      "text/markdown": [
       "<span style=\"color:#3366cc\">Hint:</span> `a = b = <expression>` is equivalent to...\n",
       "```python\n",
       "b = <expression>\n",
       "a = b```"
      ],
      "text/plain": [
       "Hint: `a = b = <expression>` is equivalent to...\n",
       "```python\n",
       "b = <expression>\n",
       "a = b```"
      ]
     },
     "metadata": {},
     "output_type": "display_data"
    }
   ],
   "source": [
    "q7.hint(2)"
   ]
  },
  {
   "cell_type": "code",
   "execution_count": 34,
   "metadata": {},
   "outputs": [
    {
     "data": {
      "text/markdown": [
       "<span style=\"color:#33cc99\">Solution:</span> The one-line syntax results in `a` and `b` having the same memory address - i.e. they refer to the same object. This matters if that object is of a **mutable** type, like list. Consider the following code:\n",
       "```python\n",
       "odds = evens = []\n",
       "for i in range(5):\n",
       "    if (i % 2) == 0:\n",
       "        evens.append(i)\n",
       "    else:\n",
       "        odds.append(i)\n",
       "print(odds)\n",
       "print(evens)```\n",
       "\n",
       "We might expect this would print `[1, 3]`, then `[0, 2, 4]`. But actually, it will print `[0, 1, 2, 3, 4]` twice in a row. `evens` and `odds` refer to the same object, so appending an element to one of them appends it to both of them. This is occasionally the source of hair-pulling debugging sessions. :)\n",
       "\n",
       "Another consideration is expressions that have side effects. For example, `list.pop` is a method which removes and returns the final element of a list. If we have `L = [1, 2, 3]`, then `a = b = L.pop()`, will result in `a` and `b` both having a value of 3. But running `a = L.pop()`, then `b = L.pop()` will result in `a` having value 3 and `b` having value 2.\n"
      ],
      "text/plain": [
       "Solution: The one-line syntax results in `a` and `b` having the same memory address - i.e. they refer to the same object. This matters if that object is of a **mutable** type, like list. Consider the following code:\n",
       "```python\n",
       "odds = evens = []\n",
       "for i in range(5):\n",
       "    if (i % 2) == 0:\n",
       "        evens.append(i)\n",
       "    else:\n",
       "        odds.append(i)\n",
       "print(odds)\n",
       "print(evens)```\n",
       "\n",
       "We might expect this would print `[1, 3]`, then `[0, 2, 4]`. But actually, it will print `[0, 1, 2, 3, 4]` twice in a row. `evens` and `odds` refer to the same object, so appending an element to one of them appends it to both of them. This is occasionally the source of hair-pulling debugging sessions. :)\n",
       "\n",
       "Another consideration is expressions that have side effects. For example, `list.pop` is a method which removes and returns the final element of a list. If we have `L = [1, 2, 3]`, then `a = b = L.pop()`, will result in `a` and `b` both having a value of 3. But running `a = L.pop()`, then `b = L.pop()` will result in `a` having value 3 and `b` having value 2."
      ]
     },
     "metadata": {},
     "output_type": "display_data"
    }
   ],
   "source": [
    "q7.solution()"
   ]
  }
 ],
 "metadata": {
  "kernelspec": {
   "display_name": "Python 3",
   "language": "python",
   "name": "python3"
  },
  "language_info": {
   "codemirror_mode": {
    "name": "ipython",
    "version": 3
   },
   "file_extension": ".py",
   "mimetype": "text/x-python",
   "name": "python",
   "nbconvert_exporter": "python",
   "pygments_lexer": "ipython3",
   "version": "3.5.3"
  }
 },
 "nbformat": 4,
 "nbformat_minor": 1
}
