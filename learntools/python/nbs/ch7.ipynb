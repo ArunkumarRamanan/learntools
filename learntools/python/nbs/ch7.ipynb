{
 "cells": [
  {
   "cell_type": "markdown",
   "metadata": {},
   "source": [
    "Welcome to the exercises for day 6 (to go along with the day 6 tutorial notebook on [strings and dictionaries](https://www.kaggle.com/colinmorris/learn-python-challenge-day-6))\n",
    "\n",
    "Run the setup code below before working on the questions (and run it again if you leave this notebook and come back later)."
   ]
  },
  {
   "cell_type": "code",
   "execution_count": null,
   "metadata": {},
   "outputs": [],
   "source": [
    "\"\"\"\n",
    "import sys; sys.path.insert(0, '../input/learntools/learntools')\n",
    "from learntools.python import binder; binder.bind(globals())\n",
    "from learntools.python.ex4 import *\n",
    "print('Setup complete.')\n",
    "\"\"\"\n",
    "import sys\n",
    "import os\n",
    "ltp = os.path.abspath('../../../')\n",
    "sys.path.append(ltp)\n",
    "from learntools.python import binder\n",
    "binder.bind(globals())\n",
    "from learntools.python.ex7 import *"
   ]
  },
  {
   "cell_type": "markdown",
   "metadata": {},
   "source": [
    "# Exercises"
   ]
  },
  {
   "cell_type": "markdown",
   "metadata": {},
   "source": [
    "## 1.\n",
    "\n",
    "You built a blackjack player in day 3 of the challenge, and I provided the simulator to evaluate your agent's prowess. As we approach the end of this challenge, it is time to see if you can take over my role. \n",
    "\n",
    "Complete the following function to tell which hand wins in blackjack.\n",
    "\n",
    "As you write this, always look for ways to make your code more readable and Pythonic.\n"
   ]
  },
  {
   "cell_type": "code",
   "execution_count": null,
   "metadata": {},
   "outputs": [],
   "source": [
    "def blackjack_comparison(hand_1, hand_2):\n",
    "    \"\"\"\n",
    "    Returns 1 if hand_1 beats hand_2. Returns 2 if hand_2 beats hand_1. \n",
    "    Returns 0 in case of tie.\n",
    "\n",
    "    Each hand is a list of cards.  The set of possible cards are\n",
    "    ‘2’, ‘3’, ‘4’, ‘5’, ‘6’, ‘7’, ‘8’, ‘9’, ‘10’, ‘J’ Q’, ‘K’, ‘A’\n",
    "    Cards with numbers count for that number of points. \n",
    "    ‘J’, ‘Q’, ‘K’ all count for 10 points. \n",
    "    ‘A’ counts for 11 unless that causes the player to have more than 21 points, \n",
    "    In which case it counts for 1 point.\n",
    "\n",
    "    If either player has more than 21 points, the other player wins. \n",
    "    If neither player has more than 21 points, the player with more points wins.\n",
    "    If both players have same number of points, it is a tie\n",
    "\n",
    "    There is never a case where both players have more than 21 points\n",
    "    \"\"\"\n",
    "    pass\n",
    "\n",
    "q1.check()"
   ]
  },
  {
   "cell_type": "code",
   "execution_count": null,
   "metadata": {
    "collapsed": true
   },
   "outputs": [],
   "source": [
    "#q1.hint()\n",
    "#q1.solution()"
   ]
  },
  {
   "cell_type": "markdown",
   "metadata": {},
   "source": [
    "You've finished the Learn Python Challenge. Congrats!\n",
    "\n",
    "Though you'd see this message just from scrolling down, even if you didn't write a line of code. So maybe you've done it, and maybe not.\n",
    "\n",
    "If you have questions from the challenge, or just want to keep talking about it, come to the [Learn Forum](https://kaggle.com/learn-forum).\n",
    "\n",
    "If you want to keep building your skills with our Data Science courses, check out [Kaggle Learn](https://www.kaggle.com/Learn).\n",
    "\n",
    "Finally, I have a short survey to help me understand what you learned, what you liked, and what you didn't like. It will only take a couple minutes, and it will help me build better challenges in the future for you and everyone else.\n",
    "\n",
    "I hope you've had fun."
   ]
  }
 ],
 "metadata": {
  "kernelspec": {
   "display_name": "Python 3",
   "language": "python",
   "name": "python3"
  },
  "language_info": {
   "codemirror_mode": {
    "name": "ipython",
    "version": 3
   },
   "file_extension": ".py",
   "mimetype": "text/x-python",
   "name": "python",
   "nbconvert_exporter": "python",
   "pygments_lexer": "ipython3",
   "version": "3.5.2"
  }
 },
 "nbformat": 4,
 "nbformat_minor": 2
}
