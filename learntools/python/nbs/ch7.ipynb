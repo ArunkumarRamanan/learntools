{
 "cells": [
  {
   "cell_type": "markdown",
   "metadata": {},
   "source": [
    "Welcome to the exercises for day 7 (to go along with the day 7 tutorial notebook on [imports and objects](https://www.kaggle.com/colinmorris/learn-python-challenge-day-7))\n",
    "\n",
    "Run the setup code below before working on the questions (and run it again if you leave this notebook and come back later)."
   ]
  },
  {
   "cell_type": "code",
   "execution_count": null,
   "metadata": {},
   "outputs": [],
   "source": [
    "\"\"\"\n",
    "import sys; sys.path.insert(0, '../input/learntools/learntools')\n",
    "from learntools.python import binder; binder.bind(globals())\n",
    "from learntools.python.ex4 import *\n",
    "print('Setup complete.')\n",
    "\"\"\"\n",
    "import sys\n",
    "import os\n",
    "ltp = os.path.abspath('../../../')\n",
    "sys.path.append(ltp)\n",
    "from learntools.python import binder\n",
    "binder.bind(globals())\n",
    "from learntools.python.ex7 import *"
   ]
  },
  {
   "cell_type": "markdown",
   "metadata": {},
   "source": [
    "# Exercises"
   ]
  },
  {
   "cell_type": "markdown",
   "metadata": {},
   "source": [
    "## 1.\n",
    "\n",
    "After completing day 5 of the Learn Python Challenge, Jimmy noticed that, according to his `estimate_average_slot_payout` function, the slot machines at the Learn Python Casino are actually rigged *against* the house, and are profitable to play in the long run.\n",
    "\n",
    "Starting with $200 in his pocket, Jimmy has played the slots 500 times, recording his new balance in a list after each spin. He used Python's `matplotlib` library to make a graph of his balance over time:"
   ]
  },
  {
   "cell_type": "code",
   "execution_count": null,
   "metadata": {},
   "outputs": [],
   "source": [
    "graph = jimmy_slots_graph()\n",
    "graph"
   ]
  },
  {
   "cell_type": "markdown",
   "metadata": {},
   "source": [
    "As you can see, he's hit a bit of bad luck recently. He wants to tweet this along with some choice emojis, but, as it looks right now, his followers will probably find it confusing without context. He's asked if you can help him make the following changes:\n",
    "\n",
    "1. Add the title \"Results of 500 slot machine pulls\"\n",
    "2. Make the y-axis start at 0. \n",
    "3. Add the label \"Balance\" to the y-axis\n",
    "4. (bonus) Label the tick marks with dollar signs\n",
    "\n",
    "Write a function `prettify_graph` that makes those tweaks.\n",
    "\n",
    "HINT: Remember those three useful built-in functions for inspecting unfamiliar objects: `type()`, `dir()`, and `help()`. There's a method of Jimmy's graph that will help perform each of the tweaks described above. You may want to use the cell below as scratch space for experimenting with `graph`."
   ]
  },
  {
   "cell_type": "code",
   "execution_count": null,
   "metadata": {},
   "outputs": [],
   "source": [
    "# What type of thing is graph?\n",
    "type(graph)"
   ]
  },
  {
   "cell_type": "code",
   "execution_count": null,
   "metadata": {},
   "outputs": [],
   "source": [
    "def prettify_graph(graph):\n",
    "    \"\"\"Modify the given graph according to Jimmy's requests: add a title, make the y-axis\n",
    "    start at 0, label the y-axis. (And, if you're feeling ambitious, format the tick marks\n",
    "    as dollar amounts using the \"$\" symbol.)\n",
    "    \"\"\"\n",
    "    pass\n",
    "\n",
    "graph = jimmy_slots_graph()\n",
    "prettify_graph(graph)\n",
    "graph\n",
    "\n",
    "# q1.check()?"
   ]
  },
  {
   "cell_type": "code",
   "execution_count": null,
   "metadata": {},
   "outputs": [],
   "source": [
    "#q1.solution()"
   ]
  },
  {
   "cell_type": "markdown",
   "metadata": {},
   "source": [
    "## 2.\n",
    "\n",
    "Luigi is trying to perform an analysis to determine the best items for winning races on the Mario Kart circuit. He has some data in the form of lists of dictionaries that look like...\n",
    "\n",
    "    [\n",
    "        {'name': 'Peach', 'items': ['green shell', 'banana', 'green shell',], 'finish': 3},\n",
    "        {'name': 'Bowser', 'items': ['green shell',], 'finish': 1},\n",
    "        # Sometimes the racer's name wasn't recorded\n",
    "        {'name': None, 'items': ['mushroom',], 'finish': 2},\n",
    "        {'name': 'Toad', 'items': ['green shell', 'mushroom'], 'finish': 1},\n",
    "    ]\n",
    "\n",
    "`'items'` is a list of all the power-up items the racer picked up in that race, and `'finish'` was their placement in the race (1 for first place, 3 for third, etc.).\n",
    "\n",
    "He wrote the function below to take a list like this and return a dictionary mapping each item to how many times it was picked up by first-place finishers."
   ]
  },
  {
   "cell_type": "code",
   "execution_count": null,
   "metadata": {},
   "outputs": [],
   "source": [
    "def best_items(racers):\n",
    "    winner_item_counts = {}\n",
    "    for i in range(len(racers)):\n",
    "        racer = racers[i]\n",
    "        if racer['finish'] == 1:\n",
    "            for i in racer['items']:\n",
    "                # .get(i, 0) returns 0 if the item isn't a key in the dictionary. Otherwise, it returns\n",
    "                # the value associated with that item.\n",
    "                winner_item_counts[i] = winner_item_counts.get(i, 0) + 1\n",
    "\n",
    "        if racer['name'] is None:\n",
    "            print(\"WARNING: Encountered racer with unknown name on iteration {}/{} (racer = {})\".format(\n",
    "                i+1, len(racers), racer['name'])\n",
    "                 )\n",
    "    return winner_item_counts"
   ]
  },
  {
   "cell_type": "markdown",
   "metadata": {},
   "source": [
    "He tried it on the small example list above and it seemed to work correctly:"
   ]
  },
  {
   "cell_type": "code",
   "execution_count": 53,
   "metadata": {},
   "outputs": [
    {
     "name": "stdout",
     "output_type": "stream",
     "text": [
      "WARNING: Encountered racer with unknown name on iteration 3/4 (racer = None)\n"
     ]
    },
    {
     "data": {
      "text/plain": [
       "{'green shell': 2, 'mushroom': 1}"
      ]
     },
     "execution_count": 53,
     "metadata": {},
     "output_type": "execute_result"
    }
   ],
   "source": [
    "sample = [\n",
    "    {'name': 'Peach', 'items': ['green shell', 'banana', 'green shell',], 'finish': 3},\n",
    "    {'name': 'Bowser', 'items': ['green shell',], 'finish': 1},\n",
    "    {'name': None, 'items': ['mushroom',], 'finish': 2},\n",
    "    {'name': 'Toad', 'items': ['green shell', 'mushroom'], 'finish': 1},\n",
    "]\n",
    "best_items(sample)"
   ]
  },
  {
   "cell_type": "markdown",
   "metadata": {},
   "source": [
    "However, when he tried running it on his full dataset, the program crashed with a `TypeError`.\n",
    "\n",
    "Can you guess why? Try running the code cell below to see the error message Luigi is getting. Once you've identified the bug, fix it in the cell below (so that it runs without any errors)."
   ]
  },
  {
   "cell_type": "code",
   "execution_count": null,
   "metadata": {},
   "outputs": [],
   "source": [
    "def best_items(racers):\n",
    "    winner_item_counts = {}\n",
    "    for i in range(len(racers)):\n",
    "        racer = racers[i]\n",
    "        if racer['finish'] == 1:\n",
    "            for i in racer['items']:\n",
    "                # .get(i, 0) returns 0 if the item isn't a key in the dictionary. Otherwise, it returns\n",
    "                # the value associated with that item.\n",
    "                winner_item_counts[i] = winner_item_counts.get(i, 0) + 1\n",
    "\n",
    "        if racer['name'] is None:\n",
    "            print(\"WARNING: Encountered racer with unknown name on iteration {}/{} (racer = {})\".format(\n",
    "                i+1, len(racers), racer['name'])\n",
    "                 )\n",
    "    return winner_item_counts\n",
    "\n",
    "q2.check()"
   ]
  },
  {
   "cell_type": "code",
   "execution_count": null,
   "metadata": {},
   "outputs": [],
   "source": [
    "#q2.solution()\n",
    "\"\"\"\n",
    "solution: Luigi used the variable name \"i\" to represent each item in racer['items'].\n",
    "However, he also used i as the loop variable for the outer loop (`for i in range(len(racers))`).\n",
    "These i's are clobbering each other. This becomes a problem only if we encounter a racer\n",
    "with a finish of 1 and a name of None. If that happens, when we try to print the \"WARNING\" message,\n",
    "i refers to a string like \"green shell\", which python can't add to an integer, hence a TypeError.\n",
    "\n",
    "We can fix this by using different loop variables for the inner and outer loops. `i` wasn't a very\n",
    "good variable name for the inner loop anyways. `for item in racer['items']` fixes the bug and is \n",
    "easier to read.\n",
    "\"\"\""
   ]
  },
  {
   "cell_type": "markdown",
   "metadata": {},
   "source": [
    "## 3.\n",
    "\n",
    "You built a blackjack player in day 3 of the challenge, and I provided the simulator to evaluate your agent's prowess. As we approach the end of this challenge, it is time to see if you can take over my role. \n",
    "\n",
    "Complete the following function to tell which hand wins in blackjack.\n",
    "\n",
    "As you write this, always look for ways to make your code more readable and Pythonic.\n",
    "\n",
    "**side note: if we were defining a black jack hand class, we might use this to overload the comparison operators**\n",
    "\n",
    "<!-- **TODO: hint about helper function?** -->\n"
   ]
  },
  {
   "cell_type": "code",
   "execution_count": null,
   "metadata": {},
   "outputs": [],
   "source": [
    "def blackjack_comparison(hand_1, hand_2):\n",
    "    \"\"\"\n",
    "    Returns 1 if hand_1 beats hand_2. Returns 2 if hand_2 beats hand_1. \n",
    "    Returns 0 in case of tie.\n",
    "\n",
    "    Each hand is a list of cards.  The set of possible cards are\n",
    "    ‘2’, ‘3’, ‘4’, ‘5’, ‘6’, ‘7’, ‘8’, ‘9’, ‘10’, ‘J’ Q’, ‘K’, ‘A’\n",
    "    Cards with numbers count for that number of points. \n",
    "    ‘J’, ‘Q’, ‘K’ all count for 10 points. \n",
    "    ‘A’ counts for 11 unless that causes the player to have more than 21 points, \n",
    "    In which case it counts for 1 point.\n",
    "\n",
    "    If either player has more than 21 points, the other player wins. \n",
    "    If neither player has more than 21 points, the player with more points wins.\n",
    "    If both players have same number of points, it is a tie\n",
    "\n",
    "    There is never a case where both players have more than 21 points\n",
    "    \"\"\"\n",
    "    pass\n",
    "\n",
    "q3.check()"
   ]
  },
  {
   "cell_type": "code",
   "execution_count": null,
   "metadata": {
    "collapsed": true
   },
   "outputs": [],
   "source": [
    "#q3.hint()\n",
    "#q3.solution()"
   ]
  },
  {
   "cell_type": "markdown",
   "metadata": {},
   "source": [
    "## 4.\n",
    "\n",
    "In day 6 of the challenge, you heard a tip-off that the roulette tables at the Learn Python Casino had some quirk where the probability of landing on a particular number was partly dependent on the number the wheel most recently landed on. You wrote a function `conditional_roulette_probs` which returned a dictionary with counts of how often the wheel landed on `x` then `y` for each value of `x` and `y`.\n",
    "\n",
    "After analyzing the output of your function, you've come to the following conclusion: for each wheel in the casino, there is exactly one pair of numbers `a` and `b`, such that, after the wheel lands on `a`, it's significantly more likely to land on `b` than any other number. If the last spin landed on anything other than `a`, then it acts like a normal roulette wheel, with equal probability of landing on any of the 37 numbers.\n",
    "\n",
    "It's time to exploit this quirk for fun and profit. You'll be writing a roulette-playing agent to beat the house. When called, your agent will have an opportunity to sit down at one of the casino's wheels for 1000 spins. You don't need to bet on every spin. For example, the agent below bets on a random number unless the last spin landed on 13 (in which case it just watches)."
   ]
  },
  {
   "cell_type": "code",
   "execution_count": null,
   "metadata": {},
   "outputs": [],
   "source": [
    "import roulette\n",
    "import random\n",
    "\n",
    "def random_and_superstitious(game):\n",
    "    last_number = 0\n",
    "    while game.num_remaining_rounds() > 0:\n",
    "        if last_number == 13:\n",
    "            # Unlucky! Don't bet anything.\n",
    "            guess = None\n",
    "        else:\n",
    "            guess = random.randint(0, 36)\n",
    "        last_number = game.spin(number_to_bet_on=guess)\n",
    "\n",
    "roulette.simulate(random_and_superstitious)"
   ]
  },
  {
   "cell_type": "markdown",
   "metadata": {},
   "source": [
    "As you might have guessed, our random/superstitious agent tends to lose more than he wins. Can you write an agent that beats the house? \n",
    "\n",
    "HINT: it might help to go back to the [day 6 exercise notebook]() and review your code for `conditional_roulette_probs` for inspiration."
   ]
  },
  {
   "cell_type": "code",
   "execution_count": null,
   "metadata": {},
   "outputs": [],
   "source": [
    "def my_agent(game):\n",
    "    pass\n",
    "\n",
    "roulette.simulate(my_agent)"
   ]
  },
  {
   "cell_type": "markdown",
   "metadata": {},
   "source": [
    "You've finished the Learn Python Challenge. Congrats!\n",
    "\n",
    "Though you'd see this message just from scrolling down, even if you didn't write a line of code. So maybe you've done it, and maybe not.\n",
    "\n",
    "If you have questions from the challenge, or just want to keep talking about it, come to the [Learn Forum](https://kaggle.com/learn-forum).\n",
    "\n",
    "If you want to keep building your skills with our Data Science courses, check out [Kaggle Learn](https://www.kaggle.com/Learn).\n",
    "\n",
    "Finally, I have a short survey to help me understand what you learned, what you liked, and what you didn't like. It will only take a couple minutes, and it will help me build better challenges in the future for you and everyone else.\n",
    "\n",
    "I hope you've had fun."
   ]
  }
 ],
 "metadata": {
  "kernelspec": {
   "display_name": "Python 3",
   "language": "python",
   "name": "python3"
  },
  "language_info": {
   "codemirror_mode": {
    "name": "ipython",
    "version": 3
   },
   "file_extension": ".py",
   "mimetype": "text/x-python",
   "name": "python",
   "nbconvert_exporter": "python",
   "pygments_lexer": "ipython3",
   "version": "3.5.3"
  }
 },
 "nbformat": 4,
 "nbformat_minor": 2
}
